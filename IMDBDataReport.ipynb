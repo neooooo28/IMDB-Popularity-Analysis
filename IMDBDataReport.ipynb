{
 "cells": [
  {
   "cell_type": "markdown",
   "metadata": {},
   "source": [
    "## Stats 131 Final Project\n",
    "### Cristina Sanchez, Jericho Villareal, Valeria Lopez, Valerie Chen"
   ]
  },
  {
   "cell_type": "markdown",
   "metadata": {},
   "source": [
    "## Background"
   ]
  },
  {
   "cell_type": "markdown",
   "metadata": {},
   "source": [
    "The data set was derived from Kaggle titled **Movie Industry**: *Three decades of movies*. The link can be found here: https://www.kaggle.com/danielgrijalvas/movies/version/2\n",
    "\n",
    "“IMDb is an online database of information related to films, television programs, home videos, video games, and streaming content online – including cast, production crew and personal biographies, plot summaries, trivia, fan and critical reviews, and ratings” \n",
    "\n",
    "IMDb provides a variety of information such as user rating, the number of user votes per movie, budget, information of directors, writers, stars, production companies, as well as box office reportings of films.\n",
    "\n",
    "In this report, data on popular movies pulled from the IMDb website will be analyzed. Popularity is determined by the number of visits to the movies' page from when the movie was listed on IMDb to the day the data was scraped by Daniel Grijalva on October 4, 2017. This data was collected in 2017 and was created using IMDB’s advanced search tool, which can filter movies based on desired specifications such as year it was released, user ratings, genres, production companies, US rating certificates, runtime, cast and crew members, and others. In this case, the data set was filtered using the movie's popularity and year it was released, then selecting the top 220 movies.\n",
    "\n",
    "This data set contains 6820 observations and 15 variables.\n",
    "The top 220 movies were collected for each year spanning three decades starting from 1986 to 2016.\n",
    "Data was subset to only include movies from the USA because the gross column of the dataset only refers to the gross reportings in the USA. Each row in the data set is made up of a unique movie.\n",
    "The variables in this data set are “budget”, “company”, “country”, “director”, “genre”, “gross”, “name”, “rating”, “released”, “runtime”, “score”, “votes”, “star”, “writer”, “year”.\n",
    "\n",
    "Budget refers to the budget of the movie which is the cost, in US dollars, of producing and shooting the film. Values of 0 in the budget column indicate a missing entry. This may be due to studios being reluctant to report how much a film cost, mainly when a movie does not perform well. Also, reported budgets may change over time due to escalating costs, and they may be difficult to calculate.\n",
    "\n",
    "Company refers to the name of the production company of a film, the entity or entities that are responsible for the development and filming of a movie. Films generally have multiple production companies, and this data set pulled the first company listed on IMDb, which listed production companies based on how they appeared in the film.\n",
    "\n",
    "Country refers to the name of the country of origin of the movie, essentially where the movie comes from and is produced.\n",
    "\n",
    "Director is the name of the director of the film. A film director has control over a movie's artistic aspects and guides the crew and actors in fulfilling their vision of what the movie should look like. There may be multiple directors for a movie, but this data set uses the first director listed on IMDB, which listed directors based on how they appeared in the film.\n",
    "\n",
    "Genre is the main genre of the movie which refers to the category or type of movie such as comedy, action, horror, romance, drama, mystery, adventure, animation, etc.\n",
    "\n",
    "Gross refers to the US box office gross of a movie. This indicates how much a movie made in the US selling tickets at movie theaters.\n",
    "\n",
    "The name variable refers to the title of the movie.\n",
    "\n",
    "The rating column relates to the rating of the movie. The rating of a movie in the US refers to the US certificate label a movie is given based off the Motion Picture Association of America’s system which rates a film's suitability for audiences based on its content. The ratings in the US include R, PG-13, PG, G, and NC-17. A NC-17 rating is a very restricted movie where no one under the age of 17 can be admitted; only adults are permitted. An R rating is a restricted movie where persons under the age of 17 need to be accompanied by an adult guardian or parent to view the film. A PG-13 rating urges parents to be cautious of material that may be unsuitable for children under 13 years of age. A PG rating suggests parental guidance as parents may not find some of the movie's content suitable for their young children. A G rating is for general audiences, meaning any person of any age may be admitted to view a film. Other rating types are included in the data based off the different country of origins' rating scheme.\n",
    "\n",
    "Released indicates the release date of the movie in the format (YYYY-MM-DD). The released date is when the movie is first released to the public in theaters.\n",
    "\n",
    "The runtime variable refers to the duration of the movie, in other words, how long the movie lasts from start to the end of credits.\n",
    "\n",
    "The score category is the IMDb user rating ranked from 1 to 10. The score is a weighted average based on IMDb account holders' ratings of a film. \n",
    "\n",
    "Votes refers to the number of IMDb account user score ratings on a particular film.\n",
    "\n",
    "The star column refers to the “main” actor or actress of a film. This data set takes the first person listed on the IMDb website, which is based off of the order of appearance in the film.\n",
    "\n",
    "The writer indicates the writer of the movie. In some cases, this could be the script writer or the writer of a book in which a film may have been based on. This data set takes the first name listed on the IMDb website, as there can be multiple writers listed.\n",
    "\n",
    "Year is the year in which a film was released.\n",
    "\n",
    "The final data set used has 2131 observations and 12 variables, a few of which were made using the original data set's variables.\n"
   ]
  },
  {
   "cell_type": "markdown",
   "metadata": {},
   "source": [
    "## Exploratory Data Analysis"
   ]
  },
  {
   "cell_type": "code",
   "execution_count": 1,
   "metadata": {},
   "outputs": [
    {
     "data": {
      "text/html": [
       "<div>\n",
       "<style scoped>\n",
       "    .dataframe tbody tr th:only-of-type {\n",
       "        vertical-align: middle;\n",
       "    }\n",
       "\n",
       "    .dataframe tbody tr th {\n",
       "        vertical-align: top;\n",
       "    }\n",
       "\n",
       "    .dataframe thead th {\n",
       "        text-align: right;\n",
       "    }\n",
       "</style>\n",
       "<table border=\"1\" class=\"dataframe\">\n",
       "  <thead>\n",
       "    <tr style=\"text-align: right;\">\n",
       "      <th></th>\n",
       "      <th>budget</th>\n",
       "      <th>company</th>\n",
       "      <th>country</th>\n",
       "      <th>director</th>\n",
       "      <th>genre</th>\n",
       "      <th>gross</th>\n",
       "      <th>name</th>\n",
       "      <th>rating</th>\n",
       "      <th>released</th>\n",
       "      <th>runtime</th>\n",
       "      <th>score</th>\n",
       "      <th>star</th>\n",
       "      <th>votes</th>\n",
       "      <th>writer</th>\n",
       "      <th>year</th>\n",
       "    </tr>\n",
       "  </thead>\n",
       "  <tbody>\n",
       "    <tr>\n",
       "      <th>0</th>\n",
       "      <td>8000000.0</td>\n",
       "      <td>Columbia Pictures Corporation</td>\n",
       "      <td>USA</td>\n",
       "      <td>Rob Reiner</td>\n",
       "      <td>Adventure</td>\n",
       "      <td>52287414.0</td>\n",
       "      <td>Stand by Me</td>\n",
       "      <td>R</td>\n",
       "      <td>1986-08-22</td>\n",
       "      <td>89</td>\n",
       "      <td>8.1</td>\n",
       "      <td>Wil Wheaton</td>\n",
       "      <td>299174</td>\n",
       "      <td>Stephen King</td>\n",
       "      <td>1986</td>\n",
       "    </tr>\n",
       "    <tr>\n",
       "      <th>1</th>\n",
       "      <td>6000000.0</td>\n",
       "      <td>Paramount Pictures</td>\n",
       "      <td>USA</td>\n",
       "      <td>John Hughes</td>\n",
       "      <td>Comedy</td>\n",
       "      <td>70136369.0</td>\n",
       "      <td>Ferris Bueller's Day Off</td>\n",
       "      <td>PG-13</td>\n",
       "      <td>1986-06-11</td>\n",
       "      <td>103</td>\n",
       "      <td>7.8</td>\n",
       "      <td>Matthew Broderick</td>\n",
       "      <td>264740</td>\n",
       "      <td>John Hughes</td>\n",
       "      <td>1986</td>\n",
       "    </tr>\n",
       "    <tr>\n",
       "      <th>2</th>\n",
       "      <td>15000000.0</td>\n",
       "      <td>Paramount Pictures</td>\n",
       "      <td>USA</td>\n",
       "      <td>Tony Scott</td>\n",
       "      <td>Action</td>\n",
       "      <td>179800601.0</td>\n",
       "      <td>Top Gun</td>\n",
       "      <td>PG</td>\n",
       "      <td>1986-05-16</td>\n",
       "      <td>110</td>\n",
       "      <td>6.9</td>\n",
       "      <td>Tom Cruise</td>\n",
       "      <td>236909</td>\n",
       "      <td>Jim Cash</td>\n",
       "      <td>1986</td>\n",
       "    </tr>\n",
       "    <tr>\n",
       "      <th>3</th>\n",
       "      <td>18500000.0</td>\n",
       "      <td>Twentieth Century Fox Film Corporation</td>\n",
       "      <td>USA</td>\n",
       "      <td>James Cameron</td>\n",
       "      <td>Action</td>\n",
       "      <td>85160248.0</td>\n",
       "      <td>Aliens</td>\n",
       "      <td>R</td>\n",
       "      <td>1986-07-18</td>\n",
       "      <td>137</td>\n",
       "      <td>8.4</td>\n",
       "      <td>Sigourney Weaver</td>\n",
       "      <td>540152</td>\n",
       "      <td>James Cameron</td>\n",
       "      <td>1986</td>\n",
       "    </tr>\n",
       "    <tr>\n",
       "      <th>4</th>\n",
       "      <td>9000000.0</td>\n",
       "      <td>Walt Disney Pictures</td>\n",
       "      <td>USA</td>\n",
       "      <td>Randal Kleiser</td>\n",
       "      <td>Adventure</td>\n",
       "      <td>18564613.0</td>\n",
       "      <td>Flight of the Navigator</td>\n",
       "      <td>PG</td>\n",
       "      <td>1986-08-01</td>\n",
       "      <td>90</td>\n",
       "      <td>6.9</td>\n",
       "      <td>Joey Cramer</td>\n",
       "      <td>36636</td>\n",
       "      <td>Mark H. Baker</td>\n",
       "      <td>1986</td>\n",
       "    </tr>\n",
       "  </tbody>\n",
       "</table>\n",
       "</div>"
      ],
      "text/plain": [
       "       budget                                 company country        director  \\\n",
       "0   8000000.0           Columbia Pictures Corporation     USA      Rob Reiner   \n",
       "1   6000000.0                      Paramount Pictures     USA     John Hughes   \n",
       "2  15000000.0                      Paramount Pictures     USA      Tony Scott   \n",
       "3  18500000.0  Twentieth Century Fox Film Corporation     USA   James Cameron   \n",
       "4   9000000.0                    Walt Disney Pictures     USA  Randal Kleiser   \n",
       "\n",
       "       genre        gross                      name rating    released  \\\n",
       "0  Adventure   52287414.0               Stand by Me      R  1986-08-22   \n",
       "1     Comedy   70136369.0  Ferris Bueller's Day Off  PG-13  1986-06-11   \n",
       "2     Action  179800601.0                   Top Gun     PG  1986-05-16   \n",
       "3     Action   85160248.0                    Aliens      R  1986-07-18   \n",
       "4  Adventure   18564613.0   Flight of the Navigator     PG  1986-08-01   \n",
       "\n",
       "   runtime  score               star   votes         writer  year  \n",
       "0       89    8.1        Wil Wheaton  299174   Stephen King  1986  \n",
       "1      103    7.8  Matthew Broderick  264740    John Hughes  1986  \n",
       "2      110    6.9         Tom Cruise  236909       Jim Cash  1986  \n",
       "3      137    8.4   Sigourney Weaver  540152  James Cameron  1986  \n",
       "4       90    6.9        Joey Cramer   36636  Mark H. Baker  1986  "
      ]
     },
     "execution_count": 1,
     "metadata": {},
     "output_type": "execute_result"
    }
   ],
   "source": [
    "# Loading necessary packages\n",
    "import pandas as pd\n",
    "import numpy as np\n",
    "import matplotlib.pyplot as plt\n",
    "import seaborn as sns\n",
    "\n",
    "# Loading data\n",
    "data = pd.read_csv(\"movies.csv\", sep = \",\" ,encoding='latin-1')\n",
    "data.head()"
   ]
  },
  {
   "cell_type": "code",
   "execution_count": 2,
   "metadata": {},
   "outputs": [
    {
     "data": {
      "text/plain": [
       "(6820, 15)"
      ]
     },
     "execution_count": 2,
     "metadata": {},
     "output_type": "execute_result"
    }
   ],
   "source": [
    "# Initial data dimensions\n",
    "data.shape"
   ]
  },
  {
   "cell_type": "code",
   "execution_count": 3,
   "metadata": {},
   "outputs": [
    {
     "data": {
      "text/html": [
       "<div>\n",
       "<style scoped>\n",
       "    .dataframe tbody tr th:only-of-type {\n",
       "        vertical-align: middle;\n",
       "    }\n",
       "\n",
       "    .dataframe tbody tr th {\n",
       "        vertical-align: top;\n",
       "    }\n",
       "\n",
       "    .dataframe thead th {\n",
       "        text-align: right;\n",
       "    }\n",
       "</style>\n",
       "<table border=\"1\" class=\"dataframe\">\n",
       "  <thead>\n",
       "    <tr style=\"text-align: right;\">\n",
       "      <th></th>\n",
       "      <th>name</th>\n",
       "      <th>country</th>\n",
       "      <th>gross</th>\n",
       "      <th>runtime</th>\n",
       "      <th>rating</th>\n",
       "      <th>released</th>\n",
       "      <th>year</th>\n",
       "      <th>month</th>\n",
       "      <th>y2</th>\n",
       "      <th>T_year</th>\n",
       "    </tr>\n",
       "  </thead>\n",
       "  <tbody>\n",
       "    <tr>\n",
       "      <th>3080</th>\n",
       "      <td>Requiem for a Dream</td>\n",
       "      <td>USA</td>\n",
       "      <td>3609278.0</td>\n",
       "      <td>102</td>\n",
       "      <td>R</td>\n",
       "      <td>2000-12-15</td>\n",
       "      <td>2000</td>\n",
       "      <td>12</td>\n",
       "      <td>2000</td>\n",
       "      <td>True</td>\n",
       "    </tr>\n",
       "    <tr>\n",
       "      <th>3081</th>\n",
       "      <td>Gladiator</td>\n",
       "      <td>USA</td>\n",
       "      <td>187705427.0</td>\n",
       "      <td>155</td>\n",
       "      <td>R</td>\n",
       "      <td>2000-05-05</td>\n",
       "      <td>2000</td>\n",
       "      <td>05</td>\n",
       "      <td>2000</td>\n",
       "      <td>True</td>\n",
       "    </tr>\n",
       "    <tr>\n",
       "      <th>3082</th>\n",
       "      <td>American Psycho</td>\n",
       "      <td>USA</td>\n",
       "      <td>15070285.0</td>\n",
       "      <td>102</td>\n",
       "      <td>R</td>\n",
       "      <td>2000-04-14</td>\n",
       "      <td>2000</td>\n",
       "      <td>04</td>\n",
       "      <td>2000</td>\n",
       "      <td>True</td>\n",
       "    </tr>\n",
       "    <tr>\n",
       "      <th>3083</th>\n",
       "      <td>The Patriot</td>\n",
       "      <td>USA</td>\n",
       "      <td>113330342.0</td>\n",
       "      <td>165</td>\n",
       "      <td>R</td>\n",
       "      <td>2000-06-28</td>\n",
       "      <td>2000</td>\n",
       "      <td>06</td>\n",
       "      <td>2000</td>\n",
       "      <td>True</td>\n",
       "    </tr>\n",
       "    <tr>\n",
       "      <th>3086</th>\n",
       "      <td>Remember the Titans</td>\n",
       "      <td>USA</td>\n",
       "      <td>115654751.0</td>\n",
       "      <td>113</td>\n",
       "      <td>PG</td>\n",
       "      <td>2000-09-29</td>\n",
       "      <td>2000</td>\n",
       "      <td>09</td>\n",
       "      <td>2000</td>\n",
       "      <td>True</td>\n",
       "    </tr>\n",
       "  </tbody>\n",
       "</table>\n",
       "</div>"
      ],
      "text/plain": [
       "                     name country        gross  runtime rating    released  \\\n",
       "3080  Requiem for a Dream     USA    3609278.0      102      R  2000-12-15   \n",
       "3081            Gladiator     USA  187705427.0      155      R  2000-05-05   \n",
       "3082      American Psycho     USA   15070285.0      102      R  2000-04-14   \n",
       "3083          The Patriot     USA  113330342.0      165      R  2000-06-28   \n",
       "3086  Remember the Titans     USA  115654751.0      113     PG  2000-09-29   \n",
       "\n",
       "      year month    y2  T_year  \n",
       "3080  2000    12  2000    True  \n",
       "3081  2000    05  2000    True  \n",
       "3082  2000    04  2000    True  \n",
       "3083  2000    06  2000    True  \n",
       "3086  2000    09  2000    True  "
      ]
     },
     "execution_count": 3,
     "metadata": {},
     "output_type": "execute_result"
    }
   ],
   "source": [
    "# Copy data and clean\n",
    "cleanData = data.copy()\n",
    "\n",
    "# Subset data set for variables interested in\n",
    "cleanData = cleanData[['name','country','gross','runtime','rating','released','year']]\n",
    "\n",
    "# Create month, y2, T_year variable\n",
    "cleanData[\"month\"] = cleanData.released.astype(str).str[5:7]\n",
    "cleanData[\"y2\"] = cleanData.released.astype(str).str[:4]\n",
    "cleanData[\"T_year\"] = cleanData.year.astype(str) == cleanData.y2.astype(str)\n",
    "cleanData = cleanData[cleanData.T_year == True]\n",
    "\n",
    "# Filter for movie ratings, country, and year\n",
    "cleanData = cleanData[cleanData['rating'].isin(['R', 'PG-13', 'PG', 'G'])]\n",
    "cleanData = cleanData[cleanData.country == \"USA\"]\n",
    "cleanData = cleanData[cleanData.year >= 2000] \n",
    "\n",
    "# Adjusting for inflation\n",
    "# cleanData['adjusted'] = cleanData.apply(lambda x: cpi.inflate(x.gross, x.year, to = 2016), axis = 1)\n",
    "\n",
    "cleanData.head()"
   ]
  },
  {
   "cell_type": "code",
   "execution_count": 4,
   "metadata": {},
   "outputs": [
    {
     "data": {
      "text/plain": [
       "(2131, 10)"
      ]
     },
     "execution_count": 4,
     "metadata": {},
     "output_type": "execute_result"
    }
   ],
   "source": [
    "# Data dimensions\n",
    "cleanData.shape"
   ]
  },
  {
   "cell_type": "markdown",
   "metadata": {},
   "source": [
    "The original data set contains 6820 observations with 15 variables. Out of the 15 varaibles, 7 were used and 4 were created. The final data set has 2131 observations and 12 variables. The name of the movie was kept as an identifier as well as the country of origin. Country was filtered to movies in th USA only in order to have a more in depth analysis for . Gross was adjusted for inflation to 2016 in order to accurately compare movies over time. Runtime and rating were kept becuase these variables describe undisputable data for a movie. Rating was filtered to the 4 major movie labels in the US which are R, PG-13, PG, and G. Released and year were kept in order to perform timeseries analysis with year being filtered from 2000 to 2016 only because according to IMDb, gross data may not be as reliable going more than 15 years back. Other variables such as company and director were removed because the data is not reliable as IMDb has multiple listings for these categories. Other variables relating to time were created for analysis."
   ]
  },
  {
   "cell_type": "code",
   "execution_count": 5,
   "metadata": {
    "scrolled": false
   },
   "outputs": [
    {
     "data": {
      "text/html": [
       "<div>\n",
       "<style scoped>\n",
       "    .dataframe tbody tr th:only-of-type {\n",
       "        vertical-align: middle;\n",
       "    }\n",
       "\n",
       "    .dataframe tbody tr th {\n",
       "        vertical-align: top;\n",
       "    }\n",
       "\n",
       "    .dataframe thead th {\n",
       "        text-align: right;\n",
       "    }\n",
       "</style>\n",
       "<table border=\"1\" class=\"dataframe\">\n",
       "  <thead>\n",
       "    <tr style=\"text-align: right;\">\n",
       "      <th></th>\n",
       "      <th>name</th>\n",
       "      <th>country</th>\n",
       "      <th>gross</th>\n",
       "      <th>runtime</th>\n",
       "      <th>rating</th>\n",
       "      <th>released</th>\n",
       "      <th>year</th>\n",
       "      <th>month</th>\n",
       "      <th>y2</th>\n",
       "      <th>T_year</th>\n",
       "    </tr>\n",
       "  </thead>\n",
       "  <tbody>\n",
       "    <tr>\n",
       "      <th>count</th>\n",
       "      <td>2131</td>\n",
       "      <td>2131</td>\n",
       "      <td>2.131000e+03</td>\n",
       "      <td>2131.000000</td>\n",
       "      <td>2131</td>\n",
       "      <td>2131</td>\n",
       "      <td>2131.000000</td>\n",
       "      <td>2131</td>\n",
       "      <td>2131</td>\n",
       "      <td>2131</td>\n",
       "    </tr>\n",
       "    <tr>\n",
       "      <th>unique</th>\n",
       "      <td>2127</td>\n",
       "      <td>1</td>\n",
       "      <td>NaN</td>\n",
       "      <td>NaN</td>\n",
       "      <td>4</td>\n",
       "      <td>1010</td>\n",
       "      <td>NaN</td>\n",
       "      <td>12</td>\n",
       "      <td>17</td>\n",
       "      <td>1</td>\n",
       "    </tr>\n",
       "    <tr>\n",
       "      <th>top</th>\n",
       "      <td>Fantastic Four</td>\n",
       "      <td>USA</td>\n",
       "      <td>NaN</td>\n",
       "      <td>NaN</td>\n",
       "      <td>PG-13</td>\n",
       "      <td>2006-10-13</td>\n",
       "      <td>NaN</td>\n",
       "      <td>10</td>\n",
       "      <td>2007</td>\n",
       "      <td>True</td>\n",
       "    </tr>\n",
       "    <tr>\n",
       "      <th>freq</th>\n",
       "      <td>2</td>\n",
       "      <td>2131</td>\n",
       "      <td>NaN</td>\n",
       "      <td>NaN</td>\n",
       "      <td>931</td>\n",
       "      <td>7</td>\n",
       "      <td>NaN</td>\n",
       "      <td>235</td>\n",
       "      <td>143</td>\n",
       "      <td>2131</td>\n",
       "    </tr>\n",
       "    <tr>\n",
       "      <th>mean</th>\n",
       "      <td>NaN</td>\n",
       "      <td>NaN</td>\n",
       "      <td>6.148969e+07</td>\n",
       "      <td>106.416237</td>\n",
       "      <td>NaN</td>\n",
       "      <td>NaN</td>\n",
       "      <td>2007.874237</td>\n",
       "      <td>NaN</td>\n",
       "      <td>NaN</td>\n",
       "      <td>NaN</td>\n",
       "    </tr>\n",
       "    <tr>\n",
       "      <th>std</th>\n",
       "      <td>NaN</td>\n",
       "      <td>NaN</td>\n",
       "      <td>7.640650e+07</td>\n",
       "      <td>16.381310</td>\n",
       "      <td>NaN</td>\n",
       "      <td>NaN</td>\n",
       "      <td>4.822108</td>\n",
       "      <td>NaN</td>\n",
       "      <td>NaN</td>\n",
       "      <td>NaN</td>\n",
       "    </tr>\n",
       "    <tr>\n",
       "      <th>min</th>\n",
       "      <td>NaN</td>\n",
       "      <td>NaN</td>\n",
       "      <td>1.785000e+03</td>\n",
       "      <td>72.000000</td>\n",
       "      <td>NaN</td>\n",
       "      <td>NaN</td>\n",
       "      <td>2000.000000</td>\n",
       "      <td>NaN</td>\n",
       "      <td>NaN</td>\n",
       "      <td>NaN</td>\n",
       "    </tr>\n",
       "    <tr>\n",
       "      <th>25%</th>\n",
       "      <td>NaN</td>\n",
       "      <td>NaN</td>\n",
       "      <td>1.468506e+07</td>\n",
       "      <td>96.000000</td>\n",
       "      <td>NaN</td>\n",
       "      <td>NaN</td>\n",
       "      <td>2004.000000</td>\n",
       "      <td>NaN</td>\n",
       "      <td>NaN</td>\n",
       "      <td>NaN</td>\n",
       "    </tr>\n",
       "    <tr>\n",
       "      <th>50%</th>\n",
       "      <td>NaN</td>\n",
       "      <td>NaN</td>\n",
       "      <td>3.713422e+07</td>\n",
       "      <td>103.000000</td>\n",
       "      <td>NaN</td>\n",
       "      <td>NaN</td>\n",
       "      <td>2008.000000</td>\n",
       "      <td>NaN</td>\n",
       "      <td>NaN</td>\n",
       "      <td>NaN</td>\n",
       "    </tr>\n",
       "    <tr>\n",
       "      <th>75%</th>\n",
       "      <td>NaN</td>\n",
       "      <td>NaN</td>\n",
       "      <td>7.784244e+07</td>\n",
       "      <td>115.000000</td>\n",
       "      <td>NaN</td>\n",
       "      <td>NaN</td>\n",
       "      <td>2012.000000</td>\n",
       "      <td>NaN</td>\n",
       "      <td>NaN</td>\n",
       "      <td>NaN</td>\n",
       "    </tr>\n",
       "    <tr>\n",
       "      <th>max</th>\n",
       "      <td>NaN</td>\n",
       "      <td>NaN</td>\n",
       "      <td>9.366622e+08</td>\n",
       "      <td>219.000000</td>\n",
       "      <td>NaN</td>\n",
       "      <td>NaN</td>\n",
       "      <td>2016.000000</td>\n",
       "      <td>NaN</td>\n",
       "      <td>NaN</td>\n",
       "      <td>NaN</td>\n",
       "    </tr>\n",
       "  </tbody>\n",
       "</table>\n",
       "</div>"
      ],
      "text/plain": [
       "                  name country         gross      runtime rating    released  \\\n",
       "count             2131    2131  2.131000e+03  2131.000000   2131        2131   \n",
       "unique            2127       1           NaN          NaN      4        1010   \n",
       "top     Fantastic Four     USA           NaN          NaN  PG-13  2006-10-13   \n",
       "freq                 2    2131           NaN          NaN    931           7   \n",
       "mean               NaN     NaN  6.148969e+07   106.416237    NaN         NaN   \n",
       "std                NaN     NaN  7.640650e+07    16.381310    NaN         NaN   \n",
       "min                NaN     NaN  1.785000e+03    72.000000    NaN         NaN   \n",
       "25%                NaN     NaN  1.468506e+07    96.000000    NaN         NaN   \n",
       "50%                NaN     NaN  3.713422e+07   103.000000    NaN         NaN   \n",
       "75%                NaN     NaN  7.784244e+07   115.000000    NaN         NaN   \n",
       "max                NaN     NaN  9.366622e+08   219.000000    NaN         NaN   \n",
       "\n",
       "               year month    y2 T_year  \n",
       "count   2131.000000  2131  2131   2131  \n",
       "unique          NaN    12    17      1  \n",
       "top             NaN    10  2007   True  \n",
       "freq            NaN   235   143   2131  \n",
       "mean    2007.874237   NaN   NaN    NaN  \n",
       "std        4.822108   NaN   NaN    NaN  \n",
       "min     2000.000000   NaN   NaN    NaN  \n",
       "25%     2004.000000   NaN   NaN    NaN  \n",
       "50%     2008.000000   NaN   NaN    NaN  \n",
       "75%     2012.000000   NaN   NaN    NaN  \n",
       "max     2016.000000   NaN   NaN    NaN  "
      ]
     },
     "execution_count": 5,
     "metadata": {},
     "output_type": "execute_result"
    }
   ],
   "source": [
    "# Summary statistics\n",
    "cleanData.describe(include = \"all\")"
   ]
  },
  {
   "cell_type": "code",
   "execution_count": 6,
   "metadata": {
    "scrolled": true
   },
   "outputs": [
    {
     "data": {
      "text/html": [
       "<div>\n",
       "<style scoped>\n",
       "    .dataframe tbody tr th:only-of-type {\n",
       "        vertical-align: middle;\n",
       "    }\n",
       "\n",
       "    .dataframe tbody tr th {\n",
       "        vertical-align: top;\n",
       "    }\n",
       "\n",
       "    .dataframe thead th {\n",
       "        text-align: right;\n",
       "    }\n",
       "</style>\n",
       "<table border=\"1\" class=\"dataframe\">\n",
       "  <thead>\n",
       "    <tr style=\"text-align: right;\">\n",
       "      <th></th>\n",
       "      <th>name</th>\n",
       "      <th>country</th>\n",
       "      <th>gross</th>\n",
       "      <th>runtime</th>\n",
       "      <th>rating</th>\n",
       "      <th>released</th>\n",
       "      <th>year</th>\n",
       "      <th>month</th>\n",
       "      <th>y2</th>\n",
       "      <th>T_year</th>\n",
       "      <th>adj_gross</th>\n",
       "      <th>school</th>\n",
       "    </tr>\n",
       "  </thead>\n",
       "  <tbody>\n",
       "    <tr>\n",
       "      <th>0</th>\n",
       "      <td>Requiem for a Dream</td>\n",
       "      <td>USA</td>\n",
       "      <td>3609278.0</td>\n",
       "      <td>102</td>\n",
       "      <td>R</td>\n",
       "      <td>2000-12-15</td>\n",
       "      <td>2000</td>\n",
       "      <td>12</td>\n",
       "      <td>2000</td>\n",
       "      <td>True</td>\n",
       "      <td>5.030499e+06</td>\n",
       "      <td>Break</td>\n",
       "    </tr>\n",
       "    <tr>\n",
       "      <th>1</th>\n",
       "      <td>Gladiator</td>\n",
       "      <td>USA</td>\n",
       "      <td>187705427.0</td>\n",
       "      <td>155</td>\n",
       "      <td>R</td>\n",
       "      <td>2000-05-05</td>\n",
       "      <td>2000</td>\n",
       "      <td>5</td>\n",
       "      <td>2000</td>\n",
       "      <td>True</td>\n",
       "      <td>2.616180e+08</td>\n",
       "      <td>Break</td>\n",
       "    </tr>\n",
       "    <tr>\n",
       "      <th>2</th>\n",
       "      <td>American Psycho</td>\n",
       "      <td>USA</td>\n",
       "      <td>15070285.0</td>\n",
       "      <td>102</td>\n",
       "      <td>R</td>\n",
       "      <td>2000-04-14</td>\n",
       "      <td>2000</td>\n",
       "      <td>4</td>\n",
       "      <td>2000</td>\n",
       "      <td>True</td>\n",
       "      <td>2.100449e+07</td>\n",
       "      <td>Session</td>\n",
       "    </tr>\n",
       "    <tr>\n",
       "      <th>3</th>\n",
       "      <td>The Patriot</td>\n",
       "      <td>USA</td>\n",
       "      <td>113330342.0</td>\n",
       "      <td>165</td>\n",
       "      <td>R</td>\n",
       "      <td>2000-06-28</td>\n",
       "      <td>2000</td>\n",
       "      <td>6</td>\n",
       "      <td>2000</td>\n",
       "      <td>True</td>\n",
       "      <td>1.579563e+08</td>\n",
       "      <td>Break</td>\n",
       "    </tr>\n",
       "    <tr>\n",
       "      <th>4</th>\n",
       "      <td>Remember the Titans</td>\n",
       "      <td>USA</td>\n",
       "      <td>115654751.0</td>\n",
       "      <td>113</td>\n",
       "      <td>PG</td>\n",
       "      <td>2000-09-29</td>\n",
       "      <td>2000</td>\n",
       "      <td>9</td>\n",
       "      <td>2000</td>\n",
       "      <td>True</td>\n",
       "      <td>1.611960e+08</td>\n",
       "      <td>Session</td>\n",
       "    </tr>\n",
       "  </tbody>\n",
       "</table>\n",
       "</div>"
      ],
      "text/plain": [
       "                  name country        gross  runtime rating    released  year  \\\n",
       "0  Requiem for a Dream     USA    3609278.0      102      R  2000-12-15  2000   \n",
       "1            Gladiator     USA  187705427.0      155      R  2000-05-05  2000   \n",
       "2      American Psycho     USA   15070285.0      102      R  2000-04-14  2000   \n",
       "3          The Patriot     USA  113330342.0      165      R  2000-06-28  2000   \n",
       "4  Remember the Titans     USA  115654751.0      113     PG  2000-09-29  2000   \n",
       "\n",
       "   month    y2  T_year     adj_gross   school  \n",
       "0     12  2000    True  5.030499e+06    Break  \n",
       "1      5  2000    True  2.616180e+08    Break  \n",
       "2      4  2000    True  2.100449e+07  Session  \n",
       "3      6  2000    True  1.579563e+08    Break  \n",
       "4      9  2000    True  1.611960e+08  Session  "
      ]
     },
     "execution_count": 6,
     "metadata": {},
     "output_type": "execute_result"
    }
   ],
   "source": [
    "# Load data set with adjusted gross \n",
    "\n",
    "cleanData = pd.read_csv(\"moviesAdjusted.csv\")\n",
    "cleanData.drop(cleanData.columns[[0]], axis=1, inplace=True)\n",
    "cleanData.head()"
   ]
  },
  {
   "cell_type": "code",
   "execution_count": 7,
   "metadata": {},
   "outputs": [
    {
     "data": {
      "text/plain": [
       "(2131, 12)"
      ]
     },
     "execution_count": 7,
     "metadata": {},
     "output_type": "execute_result"
    }
   ],
   "source": [
    "# Data dimensions\n",
    "cleanData.shape"
   ]
  },
  {
   "cell_type": "markdown",
   "metadata": {},
   "source": [
    "This final data set that was used for analysis includes gross adjusted for inflation as well as a new variable created called \"school\" from the following plot."
   ]
  },
  {
   "cell_type": "code",
   "execution_count": 8,
   "metadata": {
    "scrolled": true
   },
   "outputs": [
    {
     "data": {
      "text/plain": [
       "<matplotlib.axes._subplots.AxesSubplot at 0x1a2499f320>"
      ]
     },
     "execution_count": 8,
     "metadata": {},
     "output_type": "execute_result"
    },
    {
     "data": {
      "image/png": "[encoded data removed]",
      "text/plain": [
       "<Figure size 432x288 with 1 Axes>"
      ]
     },
     "metadata": {
      "needs_background": "light"
     },
     "output_type": "display_data"
    }
   ],
   "source": [
    "# Boxplot showing monthly significance WRT adjusted\n",
    "ax = sns.boxplot(x=\"month\", y=\"adj_gross\", data=cleanData)\n",
    "ax"
   ]
  },
  {
   "cell_type": "markdown",
   "metadata": {},
   "source": [
    "From the plot above, we can see that there is a sine-like curve trend in the means of adjusted gross across the 12 months. We see a gradual increases from January to March, a decrease in April, then a spike starting in May that gradually decreases to September, then begins to gradually increase again to December, then decreasing again after December. We noticed that the trend corresponds with the academic calendar year; school is typically in session during the months of January, February, March, April, September, October, and November, and breaks are typically during the months of May, June, July, and August for summer and December for winter. This may indicate that adjusted gross is influenced in part by the amount of free time people may have during breaks versus in-session periods of school. More people, children and teenagers in particular, likely significantly contribute to a movie's box office gross."
   ]
  },
  {
   "cell_type": "code",
   "execution_count": 9,
   "metadata": {
    "scrolled": false
   },
   "outputs": [
    {
     "data": {
      "text/html": [
       "<div>\n",
       "<style scoped>\n",
       "    .dataframe tbody tr th:only-of-type {\n",
       "        vertical-align: middle;\n",
       "    }\n",
       "\n",
       "    .dataframe tbody tr th {\n",
       "        vertical-align: top;\n",
       "    }\n",
       "\n",
       "    .dataframe thead th {\n",
       "        text-align: right;\n",
       "    }\n",
       "</style>\n",
       "<table border=\"1\" class=\"dataframe\">\n",
       "  <thead>\n",
       "    <tr style=\"text-align: right;\">\n",
       "      <th></th>\n",
       "      <th>name</th>\n",
       "      <th>country</th>\n",
       "      <th>gross</th>\n",
       "      <th>runtime</th>\n",
       "      <th>rating</th>\n",
       "      <th>released</th>\n",
       "      <th>year</th>\n",
       "      <th>month</th>\n",
       "      <th>y2</th>\n",
       "      <th>T_year</th>\n",
       "      <th>adj_gross</th>\n",
       "      <th>school</th>\n",
       "    </tr>\n",
       "  </thead>\n",
       "  <tbody>\n",
       "    <tr>\n",
       "      <th>0</th>\n",
       "      <td>Requiem for a Dream</td>\n",
       "      <td>USA</td>\n",
       "      <td>3609278.0</td>\n",
       "      <td>102</td>\n",
       "      <td>R</td>\n",
       "      <td>2000-12-15</td>\n",
       "      <td>2000</td>\n",
       "      <td>12</td>\n",
       "      <td>2000</td>\n",
       "      <td>True</td>\n",
       "      <td>5.030499e+06</td>\n",
       "      <td>Break</td>\n",
       "    </tr>\n",
       "    <tr>\n",
       "      <th>1</th>\n",
       "      <td>Gladiator</td>\n",
       "      <td>USA</td>\n",
       "      <td>187705427.0</td>\n",
       "      <td>155</td>\n",
       "      <td>R</td>\n",
       "      <td>2000-05-05</td>\n",
       "      <td>2000</td>\n",
       "      <td>5</td>\n",
       "      <td>2000</td>\n",
       "      <td>True</td>\n",
       "      <td>2.616180e+08</td>\n",
       "      <td>Break</td>\n",
       "    </tr>\n",
       "    <tr>\n",
       "      <th>2</th>\n",
       "      <td>American Psycho</td>\n",
       "      <td>USA</td>\n",
       "      <td>15070285.0</td>\n",
       "      <td>102</td>\n",
       "      <td>R</td>\n",
       "      <td>2000-04-14</td>\n",
       "      <td>2000</td>\n",
       "      <td>4</td>\n",
       "      <td>2000</td>\n",
       "      <td>True</td>\n",
       "      <td>2.100449e+07</td>\n",
       "      <td>Session</td>\n",
       "    </tr>\n",
       "    <tr>\n",
       "      <th>3</th>\n",
       "      <td>The Patriot</td>\n",
       "      <td>USA</td>\n",
       "      <td>113330342.0</td>\n",
       "      <td>165</td>\n",
       "      <td>R</td>\n",
       "      <td>2000-06-28</td>\n",
       "      <td>2000</td>\n",
       "      <td>6</td>\n",
       "      <td>2000</td>\n",
       "      <td>True</td>\n",
       "      <td>1.579563e+08</td>\n",
       "      <td>Break</td>\n",
       "    </tr>\n",
       "    <tr>\n",
       "      <th>4</th>\n",
       "      <td>Remember the Titans</td>\n",
       "      <td>USA</td>\n",
       "      <td>115654751.0</td>\n",
       "      <td>113</td>\n",
       "      <td>PG</td>\n",
       "      <td>2000-09-29</td>\n",
       "      <td>2000</td>\n",
       "      <td>9</td>\n",
       "      <td>2000</td>\n",
       "      <td>True</td>\n",
       "      <td>1.611960e+08</td>\n",
       "      <td>Session</td>\n",
       "    </tr>\n",
       "  </tbody>\n",
       "</table>\n",
       "</div>"
      ],
      "text/plain": [
       "                  name country        gross  runtime rating    released  year  \\\n",
       "0  Requiem for a Dream     USA    3609278.0      102      R  2000-12-15  2000   \n",
       "1            Gladiator     USA  187705427.0      155      R  2000-05-05  2000   \n",
       "2      American Psycho     USA   15070285.0      102      R  2000-04-14  2000   \n",
       "3          The Patriot     USA  113330342.0      165      R  2000-06-28  2000   \n",
       "4  Remember the Titans     USA  115654751.0      113     PG  2000-09-29  2000   \n",
       "\n",
       "   month    y2  T_year     adj_gross   school  \n",
       "0     12  2000    True  5.030499e+06    Break  \n",
       "1      5  2000    True  2.616180e+08    Break  \n",
       "2      4  2000    True  2.100449e+07  Session  \n",
       "3      6  2000    True  1.579563e+08    Break  \n",
       "4      9  2000    True  1.611960e+08  Session  "
      ]
     },
     "execution_count": 9,
     "metadata": {},
     "output_type": "execute_result"
    }
   ],
   "source": [
    "# # Mapping for school timeline\n",
    "# d = {\"01\" : \"Session\",\n",
    "#      \"02\" : \"Session\",\n",
    "#      \"03\" : \"Session\",\n",
    "#      \"04\" : \"Session\",\n",
    "#      \"05\" : \"Break\",\n",
    "#      \"06\" : \"Break\",\n",
    "#      \"07\" : \"Break\",\n",
    "#      \"08\" : \"Break\",\n",
    "#      \"09\" : \"Session\",\n",
    "#      \"10\" : \"Session\",\n",
    "#      \"11\" : \"Session\",\n",
    "#      \"12\" : \"Break\"\n",
    "#     }\n",
    "# cleanData[\"school\"] = cleanData.month.map(d)\n",
    "cleanData.head()"
   ]
  },
  {
   "cell_type": "markdown",
   "metadata": {},
   "source": [
    "Because of the boxplot above of month and adjusted gross, we split the months into two categories based on the academic calender: Break and Session. Break refers to the summer and winter break months of May, June, July, August, and December. Session refers to the months of school when it is in session: January, February, March, April, September, October, and November. We labeled the column \"school\" and were interested in using this variable in our models."
   ]
  },
  {
   "cell_type": "code",
   "execution_count": 10,
   "metadata": {
    "scrolled": false
   },
   "outputs": [
    {
     "data": {
      "text/html": [
       "<div>\n",
       "<style scoped>\n",
       "    .dataframe tbody tr th:only-of-type {\n",
       "        vertical-align: middle;\n",
       "    }\n",
       "\n",
       "    .dataframe tbody tr th {\n",
       "        vertical-align: top;\n",
       "    }\n",
       "\n",
       "    .dataframe thead th {\n",
       "        text-align: right;\n",
       "    }\n",
       "</style>\n",
       "<table border=\"1\" class=\"dataframe\">\n",
       "  <thead>\n",
       "    <tr style=\"text-align: right;\">\n",
       "      <th>rating</th>\n",
       "      <th>G</th>\n",
       "      <th>PG</th>\n",
       "      <th>PG-13</th>\n",
       "      <th>R</th>\n",
       "    </tr>\n",
       "    <tr>\n",
       "      <th>month</th>\n",
       "      <th></th>\n",
       "      <th></th>\n",
       "      <th></th>\n",
       "      <th></th>\n",
       "    </tr>\n",
       "  </thead>\n",
       "  <tbody>\n",
       "    <tr>\n",
       "      <th>1</th>\n",
       "      <td>NaN</td>\n",
       "      <td>13.0</td>\n",
       "      <td>54.0</td>\n",
       "      <td>38.0</td>\n",
       "    </tr>\n",
       "    <tr>\n",
       "      <th>2</th>\n",
       "      <td>5.0</td>\n",
       "      <td>16.0</td>\n",
       "      <td>73.0</td>\n",
       "      <td>49.0</td>\n",
       "    </tr>\n",
       "    <tr>\n",
       "      <th>3</th>\n",
       "      <td>6.0</td>\n",
       "      <td>33.0</td>\n",
       "      <td>68.0</td>\n",
       "      <td>65.0</td>\n",
       "    </tr>\n",
       "    <tr>\n",
       "      <th>4</th>\n",
       "      <td>3.0</td>\n",
       "      <td>20.0</td>\n",
       "      <td>72.0</td>\n",
       "      <td>67.0</td>\n",
       "    </tr>\n",
       "    <tr>\n",
       "      <th>5</th>\n",
       "      <td>2.0</td>\n",
       "      <td>25.0</td>\n",
       "      <td>77.0</td>\n",
       "      <td>38.0</td>\n",
       "    </tr>\n",
       "    <tr>\n",
       "      <th>6</th>\n",
       "      <td>7.0</td>\n",
       "      <td>29.0</td>\n",
       "      <td>88.0</td>\n",
       "      <td>42.0</td>\n",
       "    </tr>\n",
       "    <tr>\n",
       "      <th>7</th>\n",
       "      <td>4.0</td>\n",
       "      <td>36.0</td>\n",
       "      <td>81.0</td>\n",
       "      <td>61.0</td>\n",
       "    </tr>\n",
       "    <tr>\n",
       "      <th>8</th>\n",
       "      <td>2.0</td>\n",
       "      <td>22.0</td>\n",
       "      <td>95.0</td>\n",
       "      <td>103.0</td>\n",
       "    </tr>\n",
       "    <tr>\n",
       "      <th>9</th>\n",
       "      <td>NaN</td>\n",
       "      <td>22.0</td>\n",
       "      <td>79.0</td>\n",
       "      <td>104.0</td>\n",
       "    </tr>\n",
       "    <tr>\n",
       "      <th>10</th>\n",
       "      <td>2.0</td>\n",
       "      <td>31.0</td>\n",
       "      <td>83.0</td>\n",
       "      <td>119.0</td>\n",
       "    </tr>\n",
       "    <tr>\n",
       "      <th>11</th>\n",
       "      <td>8.0</td>\n",
       "      <td>39.0</td>\n",
       "      <td>73.0</td>\n",
       "      <td>79.0</td>\n",
       "    </tr>\n",
       "    <tr>\n",
       "      <th>12</th>\n",
       "      <td>5.0</td>\n",
       "      <td>32.0</td>\n",
       "      <td>88.0</td>\n",
       "      <td>73.0</td>\n",
       "    </tr>\n",
       "  </tbody>\n",
       "</table>\n",
       "</div>"
      ],
      "text/plain": [
       "rating    G    PG  PG-13      R\n",
       "month                          \n",
       "1       NaN  13.0   54.0   38.0\n",
       "2       5.0  16.0   73.0   49.0\n",
       "3       6.0  33.0   68.0   65.0\n",
       "4       3.0  20.0   72.0   67.0\n",
       "5       2.0  25.0   77.0   38.0\n",
       "6       7.0  29.0   88.0   42.0\n",
       "7       4.0  36.0   81.0   61.0\n",
       "8       2.0  22.0   95.0  103.0\n",
       "9       NaN  22.0   79.0  104.0\n",
       "10      2.0  31.0   83.0  119.0\n",
       "11      8.0  39.0   73.0   79.0\n",
       "12      5.0  32.0   88.0   73.0"
      ]
     },
     "execution_count": 10,
     "metadata": {},
     "output_type": "execute_result"
    }
   ],
   "source": [
    "# Counts tables\n",
    "a = cleanData.groupby([\"month\",\"rating\"])[\"rating\"].count().unstack(\"rating\")\n",
    "a"
   ]
  },
  {
   "cell_type": "code",
   "execution_count": 11,
   "metadata": {
    "scrolled": false
   },
   "outputs": [
    {
     "data": {
      "text/html": [
       "<div>\n",
       "<style scoped>\n",
       "    .dataframe tbody tr th:only-of-type {\n",
       "        vertical-align: middle;\n",
       "    }\n",
       "\n",
       "    .dataframe tbody tr th {\n",
       "        vertical-align: top;\n",
       "    }\n",
       "\n",
       "    .dataframe thead th {\n",
       "        text-align: right;\n",
       "    }\n",
       "</style>\n",
       "<table border=\"1\" class=\"dataframe\">\n",
       "  <thead>\n",
       "    <tr style=\"text-align: right;\">\n",
       "      <th>rating</th>\n",
       "      <th>G</th>\n",
       "      <th>PG</th>\n",
       "      <th>PG-13</th>\n",
       "      <th>R</th>\n",
       "    </tr>\n",
       "    <tr>\n",
       "      <th>month</th>\n",
       "      <th></th>\n",
       "      <th></th>\n",
       "      <th></th>\n",
       "      <th></th>\n",
       "    </tr>\n",
       "  </thead>\n",
       "  <tbody>\n",
       "    <tr>\n",
       "      <th>1</th>\n",
       "      <td>NaN</td>\n",
       "      <td>4.695986e+07</td>\n",
       "      <td>4.351039e+07</td>\n",
       "      <td>3.689816e+07</td>\n",
       "    </tr>\n",
       "    <tr>\n",
       "      <th>2</th>\n",
       "      <td>6.202234e+07</td>\n",
       "      <td>6.956051e+07</td>\n",
       "      <td>5.281129e+07</td>\n",
       "      <td>6.608015e+07</td>\n",
       "    </tr>\n",
       "    <tr>\n",
       "      <th>3</th>\n",
       "      <td>8.287840e+07</td>\n",
       "      <td>1.300977e+08</td>\n",
       "      <td>6.902750e+07</td>\n",
       "      <td>4.457727e+07</td>\n",
       "    </tr>\n",
       "    <tr>\n",
       "      <th>4</th>\n",
       "      <td>1.252032e+08</td>\n",
       "      <td>4.452984e+07</td>\n",
       "      <td>6.192946e+07</td>\n",
       "      <td>3.059325e+07</td>\n",
       "    </tr>\n",
       "    <tr>\n",
       "      <th>5</th>\n",
       "      <td>2.972653e+08</td>\n",
       "      <td>1.768033e+08</td>\n",
       "      <td>1.504329e+08</td>\n",
       "      <td>6.833027e+07</td>\n",
       "    </tr>\n",
       "    <tr>\n",
       "      <th>6</th>\n",
       "      <td>2.568366e+08</td>\n",
       "      <td>1.231001e+08</td>\n",
       "      <td>1.242787e+08</td>\n",
       "      <td>6.996290e+07</td>\n",
       "    </tr>\n",
       "    <tr>\n",
       "      <th>7</th>\n",
       "      <td>2.490553e+07</td>\n",
       "      <td>1.056873e+08</td>\n",
       "      <td>1.254652e+08</td>\n",
       "      <td>5.084414e+07</td>\n",
       "    </tr>\n",
       "    <tr>\n",
       "      <th>8</th>\n",
       "      <td>1.338093e+08</td>\n",
       "      <td>5.644589e+07</td>\n",
       "      <td>6.738411e+07</td>\n",
       "      <td>3.978311e+07</td>\n",
       "    </tr>\n",
       "    <tr>\n",
       "      <th>9</th>\n",
       "      <td>NaN</td>\n",
       "      <td>6.795202e+07</td>\n",
       "      <td>4.241084e+07</td>\n",
       "      <td>2.091445e+07</td>\n",
       "    </tr>\n",
       "    <tr>\n",
       "      <th>10</th>\n",
       "      <td>1.061308e+08</td>\n",
       "      <td>4.168201e+07</td>\n",
       "      <td>4.570292e+07</td>\n",
       "      <td>3.241142e+07</td>\n",
       "    </tr>\n",
       "    <tr>\n",
       "      <th>11</th>\n",
       "      <td>1.676090e+08</td>\n",
       "      <td>1.372599e+08</td>\n",
       "      <td>8.537206e+07</td>\n",
       "      <td>2.984167e+07</td>\n",
       "    </tr>\n",
       "    <tr>\n",
       "      <th>12</th>\n",
       "      <td>1.183542e+08</td>\n",
       "      <td>1.237011e+08</td>\n",
       "      <td>1.207536e+08</td>\n",
       "      <td>4.434544e+07</td>\n",
       "    </tr>\n",
       "  </tbody>\n",
       "</table>\n",
       "</div>"
      ],
      "text/plain": [
       "rating             G            PG         PG-13             R\n",
       "month                                                         \n",
       "1                NaN  4.695986e+07  4.351039e+07  3.689816e+07\n",
       "2       6.202234e+07  6.956051e+07  5.281129e+07  6.608015e+07\n",
       "3       8.287840e+07  1.300977e+08  6.902750e+07  4.457727e+07\n",
       "4       1.252032e+08  4.452984e+07  6.192946e+07  3.059325e+07\n",
       "5       2.972653e+08  1.768033e+08  1.504329e+08  6.833027e+07\n",
       "6       2.568366e+08  1.231001e+08  1.242787e+08  6.996290e+07\n",
       "7       2.490553e+07  1.056873e+08  1.254652e+08  5.084414e+07\n",
       "8       1.338093e+08  5.644589e+07  6.738411e+07  3.978311e+07\n",
       "9                NaN  6.795202e+07  4.241084e+07  2.091445e+07\n",
       "10      1.061308e+08  4.168201e+07  4.570292e+07  3.241142e+07\n",
       "11      1.676090e+08  1.372599e+08  8.537206e+07  2.984167e+07\n",
       "12      1.183542e+08  1.237011e+08  1.207536e+08  4.434544e+07"
      ]
     },
     "execution_count": 11,
     "metadata": {},
     "output_type": "execute_result"
    }
   ],
   "source": [
    "b = cleanData.groupby([\"month\",\"rating\"])[\"adj_gross\"].mean().unstack(\"rating\")\n",
    "b"
   ]
  },
  {
   "cell_type": "code",
   "execution_count": 12,
   "metadata": {
    "scrolled": false
   },
   "outputs": [
    {
     "data": {
      "image/png": "[encoded data removed]",
      "text/plain": [
       "<Figure size 432x288 with 1 Axes>"
      ]
     },
     "metadata": {
      "needs_background": "light"
     },
     "output_type": "display_data"
    },
    {
     "data": {
      "image/png": "[encoded data removed]",
      "text/plain": [
       "<Figure size 432x288 with 1 Axes>"
      ]
     },
     "metadata": {
      "needs_background": "light"
     },
     "output_type": "display_data"
    }
   ],
   "source": [
    "a.plot(kind = \"bar\")\n",
    "plt.title(\"Rating Counts Per Month\")\n",
    "plt.ylabel(\"Counts\")\n",
    "b.plot(kind = \"bar\")\n",
    "plt.title(\"Mean Gross Per Rating Per Month\")\n",
    "plt.ylabel(\"Mean Gross(US Dollars)\")\n",
    "plt.show()"
   ]
  },
  {
   "cell_type": "code",
   "execution_count": 13,
   "metadata": {
    "scrolled": true
   },
   "outputs": [
    {
     "data": {
      "text/html": [
       "<div>\n",
       "<style scoped>\n",
       "    .dataframe tbody tr th:only-of-type {\n",
       "        vertical-align: middle;\n",
       "    }\n",
       "\n",
       "    .dataframe tbody tr th {\n",
       "        vertical-align: top;\n",
       "    }\n",
       "\n",
       "    .dataframe thead th {\n",
       "        text-align: right;\n",
       "    }\n",
       "</style>\n",
       "<table border=\"1\" class=\"dataframe\">\n",
       "  <thead>\n",
       "    <tr style=\"text-align: right;\">\n",
       "      <th></th>\n",
       "      <th>name</th>\n",
       "      <th>country</th>\n",
       "      <th>gross</th>\n",
       "      <th>runtime</th>\n",
       "      <th>rating</th>\n",
       "      <th>released</th>\n",
       "      <th>year</th>\n",
       "      <th>month</th>\n",
       "      <th>y2</th>\n",
       "      <th>T_year</th>\n",
       "      <th>adj_gross</th>\n",
       "      <th>school</th>\n",
       "    </tr>\n",
       "  </thead>\n",
       "  <tbody>\n",
       "    <tr>\n",
       "      <th>684</th>\n",
       "      <td>Herbie Fully Loaded</td>\n",
       "      <td>USA</td>\n",
       "      <td>66023816.0</td>\n",
       "      <td>101</td>\n",
       "      <td>G</td>\n",
       "      <td>2005-06-22</td>\n",
       "      <td>2005</td>\n",
       "      <td>6</td>\n",
       "      <td>2005</td>\n",
       "      <td>True</td>\n",
       "      <td>8.113762e+07</td>\n",
       "      <td>Break</td>\n",
       "    </tr>\n",
       "    <tr>\n",
       "      <th>760</th>\n",
       "      <td>Cars</td>\n",
       "      <td>USA</td>\n",
       "      <td>244082982.0</td>\n",
       "      <td>117</td>\n",
       "      <td>G</td>\n",
       "      <td>2006-06-09</td>\n",
       "      <td>2006</td>\n",
       "      <td>6</td>\n",
       "      <td>2006</td>\n",
       "      <td>True</td>\n",
       "      <td>2.905835e+08</td>\n",
       "      <td>Break</td>\n",
       "    </tr>\n",
       "    <tr>\n",
       "      <th>890</th>\n",
       "      <td>Ratatouille</td>\n",
       "      <td>USA</td>\n",
       "      <td>206445654.0</td>\n",
       "      <td>111</td>\n",
       "      <td>G</td>\n",
       "      <td>2007-06-29</td>\n",
       "      <td>2007</td>\n",
       "      <td>6</td>\n",
       "      <td>2007</td>\n",
       "      <td>True</td>\n",
       "      <td>2.389694e+08</td>\n",
       "      <td>Break</td>\n",
       "    </tr>\n",
       "    <tr>\n",
       "      <th>1028</th>\n",
       "      <td>WALL·E</td>\n",
       "      <td>USA</td>\n",
       "      <td>223808164.0</td>\n",
       "      <td>98</td>\n",
       "      <td>G</td>\n",
       "      <td>2008-06-27</td>\n",
       "      <td>2008</td>\n",
       "      <td>6</td>\n",
       "      <td>2008</td>\n",
       "      <td>True</td>\n",
       "      <td>2.494881e+08</td>\n",
       "      <td>Break</td>\n",
       "    </tr>\n",
       "    <tr>\n",
       "      <th>1313</th>\n",
       "      <td>Toy Story 3</td>\n",
       "      <td>USA</td>\n",
       "      <td>415004880.0</td>\n",
       "      <td>103</td>\n",
       "      <td>G</td>\n",
       "      <td>2010-06-18</td>\n",
       "      <td>2010</td>\n",
       "      <td>6</td>\n",
       "      <td>2010</td>\n",
       "      <td>True</td>\n",
       "      <td>4.567821e+08</td>\n",
       "      <td>Break</td>\n",
       "    </tr>\n",
       "    <tr>\n",
       "      <th>1466</th>\n",
       "      <td>Cars 2</td>\n",
       "      <td>USA</td>\n",
       "      <td>191452396.0</td>\n",
       "      <td>106</td>\n",
       "      <td>G</td>\n",
       "      <td>2011-06-24</td>\n",
       "      <td>2011</td>\n",
       "      <td>6</td>\n",
       "      <td>2011</td>\n",
       "      <td>True</td>\n",
       "      <td>2.042772e+08</td>\n",
       "      <td>Break</td>\n",
       "    </tr>\n",
       "    <tr>\n",
       "      <th>1712</th>\n",
       "      <td>Monsters University</td>\n",
       "      <td>USA</td>\n",
       "      <td>268492764.0</td>\n",
       "      <td>104</td>\n",
       "      <td>G</td>\n",
       "      <td>2013-06-21</td>\n",
       "      <td>2013</td>\n",
       "      <td>6</td>\n",
       "      <td>2013</td>\n",
       "      <td>True</td>\n",
       "      <td>2.766182e+08</td>\n",
       "      <td>Break</td>\n",
       "    </tr>\n",
       "  </tbody>\n",
       "</table>\n",
       "</div>"
      ],
      "text/plain": [
       "                     name country        gross  runtime rating    released  \\\n",
       "684   Herbie Fully Loaded     USA   66023816.0      101      G  2005-06-22   \n",
       "760                  Cars     USA  244082982.0      117      G  2006-06-09   \n",
       "890           Ratatouille     USA  206445654.0      111      G  2007-06-29   \n",
       "1028               WALL·E     USA  223808164.0       98      G  2008-06-27   \n",
       "1313          Toy Story 3     USA  415004880.0      103      G  2010-06-18   \n",
       "1466               Cars 2     USA  191452396.0      106      G  2011-06-24   \n",
       "1712  Monsters University     USA  268492764.0      104      G  2013-06-21   \n",
       "\n",
       "      year  month    y2  T_year     adj_gross school  \n",
       "684   2005      6  2005    True  8.113762e+07  Break  \n",
       "760   2006      6  2006    True  2.905835e+08  Break  \n",
       "890   2007      6  2007    True  2.389694e+08  Break  \n",
       "1028  2008      6  2008    True  2.494881e+08  Break  \n",
       "1313  2010      6  2010    True  4.567821e+08  Break  \n",
       "1466  2011      6  2011    True  2.042772e+08  Break  \n",
       "1712  2013      6  2013    True  2.766182e+08  Break  "
      ]
     },
     "execution_count": 13,
     "metadata": {},
     "output_type": "execute_result"
    }
   ],
   "source": [
    "cleanData[(cleanData.rating == \"G\") & (cleanData.month == 6)]"
   ]
  },
  {
   "cell_type": "markdown",
   "metadata": {},
   "source": [
    "In the plots above, we see the number of movies released and the mean adjusted gross per rating across the 12 months, respectively. We can see there are more R-rated movies released in August, September, October, and November than any other rating, which likely coincides with the release of Horror, Thriller, and Mystery films for the spooky seasons; however, R-rated films appear to have the least mean adjusted gross. It appears PG-13 movies are constantly being released with a small dip in January, and their mean adjusted gross trend follows a somewhat sine-like pattern. PG-rated movies appear to follow a seasonal trend with gradual increases then dips starting in January, April, and August, and their mean adjusted gross trend follows a more sine-like pattern as well. The number of G-rated movies is lowest, but they have a higher mean adjusted gross, mostly due to Disney movies as seen in the table above."
   ]
  },
  {
   "cell_type": "code",
   "execution_count": 14,
   "metadata": {},
   "outputs": [
    {
     "data": {
      "text/html": [
       "<div>\n",
       "<style scoped>\n",
       "    .dataframe tbody tr th:only-of-type {\n",
       "        vertical-align: middle;\n",
       "    }\n",
       "\n",
       "    .dataframe tbody tr th {\n",
       "        vertical-align: top;\n",
       "    }\n",
       "\n",
       "    .dataframe thead th {\n",
       "        text-align: right;\n",
       "    }\n",
       "</style>\n",
       "<table border=\"1\" class=\"dataframe\">\n",
       "  <thead>\n",
       "    <tr style=\"text-align: right;\">\n",
       "      <th>rating</th>\n",
       "      <th>G</th>\n",
       "      <th>PG</th>\n",
       "      <th>PG-13</th>\n",
       "      <th>R</th>\n",
       "    </tr>\n",
       "    <tr>\n",
       "      <th>year</th>\n",
       "      <th></th>\n",
       "      <th></th>\n",
       "      <th></th>\n",
       "      <th></th>\n",
       "    </tr>\n",
       "  </thead>\n",
       "  <tbody>\n",
       "    <tr>\n",
       "      <th>2000</th>\n",
       "      <td>3.0</td>\n",
       "      <td>14.0</td>\n",
       "      <td>54.0</td>\n",
       "      <td>56.0</td>\n",
       "    </tr>\n",
       "    <tr>\n",
       "      <th>2001</th>\n",
       "      <td>4.0</td>\n",
       "      <td>12.0</td>\n",
       "      <td>54.0</td>\n",
       "      <td>55.0</td>\n",
       "    </tr>\n",
       "    <tr>\n",
       "      <th>2002</th>\n",
       "      <td>5.0</td>\n",
       "      <td>16.0</td>\n",
       "      <td>57.0</td>\n",
       "      <td>49.0</td>\n",
       "    </tr>\n",
       "    <tr>\n",
       "      <th>2003</th>\n",
       "      <td>4.0</td>\n",
       "      <td>20.0</td>\n",
       "      <td>63.0</td>\n",
       "      <td>42.0</td>\n",
       "    </tr>\n",
       "    <tr>\n",
       "      <th>2004</th>\n",
       "      <td>2.0</td>\n",
       "      <td>25.0</td>\n",
       "      <td>62.0</td>\n",
       "      <td>35.0</td>\n",
       "    </tr>\n",
       "    <tr>\n",
       "      <th>2005</th>\n",
       "      <td>3.0</td>\n",
       "      <td>22.0</td>\n",
       "      <td>57.0</td>\n",
       "      <td>40.0</td>\n",
       "    </tr>\n",
       "    <tr>\n",
       "      <th>2006</th>\n",
       "      <td>4.0</td>\n",
       "      <td>23.0</td>\n",
       "      <td>60.0</td>\n",
       "      <td>34.0</td>\n",
       "    </tr>\n",
       "    <tr>\n",
       "      <th>2007</th>\n",
       "      <td>3.0</td>\n",
       "      <td>20.0</td>\n",
       "      <td>50.0</td>\n",
       "      <td>70.0</td>\n",
       "    </tr>\n",
       "    <tr>\n",
       "      <th>2008</th>\n",
       "      <td>5.0</td>\n",
       "      <td>17.0</td>\n",
       "      <td>66.0</td>\n",
       "      <td>51.0</td>\n",
       "    </tr>\n",
       "    <tr>\n",
       "      <th>2009</th>\n",
       "      <td>2.0</td>\n",
       "      <td>22.0</td>\n",
       "      <td>54.0</td>\n",
       "      <td>55.0</td>\n",
       "    </tr>\n",
       "    <tr>\n",
       "      <th>2010</th>\n",
       "      <td>2.0</td>\n",
       "      <td>28.0</td>\n",
       "      <td>48.0</td>\n",
       "      <td>43.0</td>\n",
       "    </tr>\n",
       "    <tr>\n",
       "      <th>2011</th>\n",
       "      <td>4.0</td>\n",
       "      <td>18.0</td>\n",
       "      <td>59.0</td>\n",
       "      <td>42.0</td>\n",
       "    </tr>\n",
       "    <tr>\n",
       "      <th>2012</th>\n",
       "      <td>NaN</td>\n",
       "      <td>20.0</td>\n",
       "      <td>50.0</td>\n",
       "      <td>57.0</td>\n",
       "    </tr>\n",
       "    <tr>\n",
       "      <th>2013</th>\n",
       "      <td>1.0</td>\n",
       "      <td>11.0</td>\n",
       "      <td>50.0</td>\n",
       "      <td>62.0</td>\n",
       "    </tr>\n",
       "    <tr>\n",
       "      <th>2014</th>\n",
       "      <td>1.0</td>\n",
       "      <td>19.0</td>\n",
       "      <td>50.0</td>\n",
       "      <td>54.0</td>\n",
       "    </tr>\n",
       "    <tr>\n",
       "      <th>2015</th>\n",
       "      <td>1.0</td>\n",
       "      <td>18.0</td>\n",
       "      <td>46.0</td>\n",
       "      <td>50.0</td>\n",
       "    </tr>\n",
       "    <tr>\n",
       "      <th>2016</th>\n",
       "      <td>NaN</td>\n",
       "      <td>13.0</td>\n",
       "      <td>51.0</td>\n",
       "      <td>43.0</td>\n",
       "    </tr>\n",
       "  </tbody>\n",
       "</table>\n",
       "</div>"
      ],
      "text/plain": [
       "rating    G    PG  PG-13     R\n",
       "year                          \n",
       "2000    3.0  14.0   54.0  56.0\n",
       "2001    4.0  12.0   54.0  55.0\n",
       "2002    5.0  16.0   57.0  49.0\n",
       "2003    4.0  20.0   63.0  42.0\n",
       "2004    2.0  25.0   62.0  35.0\n",
       "2005    3.0  22.0   57.0  40.0\n",
       "2006    4.0  23.0   60.0  34.0\n",
       "2007    3.0  20.0   50.0  70.0\n",
       "2008    5.0  17.0   66.0  51.0\n",
       "2009    2.0  22.0   54.0  55.0\n",
       "2010    2.0  28.0   48.0  43.0\n",
       "2011    4.0  18.0   59.0  42.0\n",
       "2012    NaN  20.0   50.0  57.0\n",
       "2013    1.0  11.0   50.0  62.0\n",
       "2014    1.0  19.0   50.0  54.0\n",
       "2015    1.0  18.0   46.0  50.0\n",
       "2016    NaN  13.0   51.0  43.0"
      ]
     },
     "execution_count": 14,
     "metadata": {},
     "output_type": "execute_result"
    }
   ],
   "source": [
    "c = cleanData.groupby([\"year\",\"rating\"])[\"rating\"].count().unstack(\"rating\")\n",
    "c"
   ]
  },
  {
   "cell_type": "code",
   "execution_count": 15,
   "metadata": {
    "scrolled": false
   },
   "outputs": [
    {
     "data": {
      "text/html": [
       "<div>\n",
       "<style scoped>\n",
       "    .dataframe tbody tr th:only-of-type {\n",
       "        vertical-align: middle;\n",
       "    }\n",
       "\n",
       "    .dataframe tbody tr th {\n",
       "        vertical-align: top;\n",
       "    }\n",
       "\n",
       "    .dataframe thead th {\n",
       "        text-align: right;\n",
       "    }\n",
       "</style>\n",
       "<table border=\"1\" class=\"dataframe\">\n",
       "  <thead>\n",
       "    <tr style=\"text-align: right;\">\n",
       "      <th>rating</th>\n",
       "      <th>G</th>\n",
       "      <th>PG</th>\n",
       "      <th>PG-13</th>\n",
       "      <th>R</th>\n",
       "    </tr>\n",
       "    <tr>\n",
       "      <th>year</th>\n",
       "      <th></th>\n",
       "      <th></th>\n",
       "      <th></th>\n",
       "      <th></th>\n",
       "    </tr>\n",
       "  </thead>\n",
       "  <tbody>\n",
       "    <tr>\n",
       "      <th>2000</th>\n",
       "      <td>9.376080e+07</td>\n",
       "      <td>9.282397e+07</td>\n",
       "      <td>8.298663e+07</td>\n",
       "      <td>4.403239e+07</td>\n",
       "    </tr>\n",
       "    <tr>\n",
       "      <th>2001</th>\n",
       "      <td>1.747532e+08</td>\n",
       "      <td>9.183829e+07</td>\n",
       "      <td>7.464366e+07</td>\n",
       "      <td>4.034013e+07</td>\n",
       "    </tr>\n",
       "    <tr>\n",
       "      <th>2002</th>\n",
       "      <td>9.433136e+07</td>\n",
       "      <td>1.065047e+08</td>\n",
       "      <td>9.196278e+07</td>\n",
       "      <td>3.559744e+07</td>\n",
       "    </tr>\n",
       "    <tr>\n",
       "      <th>2003</th>\n",
       "      <td>1.751695e+08</td>\n",
       "      <td>8.378559e+07</td>\n",
       "      <td>7.908211e+07</td>\n",
       "      <td>6.167113e+07</td>\n",
       "    </tr>\n",
       "    <tr>\n",
       "      <th>2004</th>\n",
       "      <td>1.769523e+08</td>\n",
       "      <td>9.724263e+07</td>\n",
       "      <td>8.160975e+07</td>\n",
       "      <td>5.216879e+07</td>\n",
       "    </tr>\n",
       "    <tr>\n",
       "      <th>2005</th>\n",
       "      <td>9.249294e+07</td>\n",
       "      <td>8.794812e+07</td>\n",
       "      <td>7.663532e+07</td>\n",
       "      <td>3.921058e+07</td>\n",
       "    </tr>\n",
       "    <tr>\n",
       "      <th>2006</th>\n",
       "      <td>1.399472e+08</td>\n",
       "      <td>8.472929e+07</td>\n",
       "      <td>7.343745e+07</td>\n",
       "      <td>3.947016e+07</td>\n",
       "    </tr>\n",
       "    <tr>\n",
       "      <th>2007</th>\n",
       "      <td>1.297718e+08</td>\n",
       "      <td>1.076149e+08</td>\n",
       "      <td>9.056306e+07</td>\n",
       "      <td>2.968645e+07</td>\n",
       "    </tr>\n",
       "    <tr>\n",
       "      <th>2008</th>\n",
       "      <td>1.186398e+08</td>\n",
       "      <td>9.056637e+07</td>\n",
       "      <td>7.754464e+07</td>\n",
       "      <td>3.160127e+07</td>\n",
       "    </tr>\n",
       "    <tr>\n",
       "      <th>2009</th>\n",
       "      <td>1.029043e+08</td>\n",
       "      <td>9.908513e+07</td>\n",
       "      <td>8.348931e+07</td>\n",
       "      <td>4.137912e+07</td>\n",
       "    </tr>\n",
       "    <tr>\n",
       "      <th>2010</th>\n",
       "      <td>2.427885e+08</td>\n",
       "      <td>1.079628e+08</td>\n",
       "      <td>8.647979e+07</td>\n",
       "      <td>4.291285e+07</td>\n",
       "    </tr>\n",
       "    <tr>\n",
       "      <th>2011</th>\n",
       "      <td>1.320065e+08</td>\n",
       "      <td>8.226901e+07</td>\n",
       "      <td>8.976764e+07</td>\n",
       "      <td>4.705177e+07</td>\n",
       "    </tr>\n",
       "    <tr>\n",
       "      <th>2012</th>\n",
       "      <td>NaN</td>\n",
       "      <td>1.018817e+08</td>\n",
       "      <td>8.525691e+07</td>\n",
       "      <td>4.498943e+07</td>\n",
       "    </tr>\n",
       "    <tr>\n",
       "      <th>2013</th>\n",
       "      <td>2.766182e+08</td>\n",
       "      <td>1.675885e+08</td>\n",
       "      <td>8.882905e+07</td>\n",
       "      <td>4.030423e+07</td>\n",
       "    </tr>\n",
       "    <tr>\n",
       "      <th>2014</th>\n",
       "      <td>1.333559e+08</td>\n",
       "      <td>8.505298e+07</td>\n",
       "      <td>8.836269e+07</td>\n",
       "      <td>3.601207e+07</td>\n",
       "    </tr>\n",
       "    <tr>\n",
       "      <th>2015</th>\n",
       "      <td>1.318206e+08</td>\n",
       "      <td>1.165649e+08</td>\n",
       "      <td>1.061655e+08</td>\n",
       "      <td>3.419390e+07</td>\n",
       "    </tr>\n",
       "    <tr>\n",
       "      <th>2016</th>\n",
       "      <td>NaN</td>\n",
       "      <td>1.519622e+08</td>\n",
       "      <td>8.363997e+07</td>\n",
       "      <td>3.926380e+07</td>\n",
       "    </tr>\n",
       "  </tbody>\n",
       "</table>\n",
       "</div>"
      ],
      "text/plain": [
       "rating             G            PG         PG-13             R\n",
       "year                                                          \n",
       "2000    9.376080e+07  9.282397e+07  8.298663e+07  4.403239e+07\n",
       "2001    1.747532e+08  9.183829e+07  7.464366e+07  4.034013e+07\n",
       "2002    9.433136e+07  1.065047e+08  9.196278e+07  3.559744e+07\n",
       "2003    1.751695e+08  8.378559e+07  7.908211e+07  6.167113e+07\n",
       "2004    1.769523e+08  9.724263e+07  8.160975e+07  5.216879e+07\n",
       "2005    9.249294e+07  8.794812e+07  7.663532e+07  3.921058e+07\n",
       "2006    1.399472e+08  8.472929e+07  7.343745e+07  3.947016e+07\n",
       "2007    1.297718e+08  1.076149e+08  9.056306e+07  2.968645e+07\n",
       "2008    1.186398e+08  9.056637e+07  7.754464e+07  3.160127e+07\n",
       "2009    1.029043e+08  9.908513e+07  8.348931e+07  4.137912e+07\n",
       "2010    2.427885e+08  1.079628e+08  8.647979e+07  4.291285e+07\n",
       "2011    1.320065e+08  8.226901e+07  8.976764e+07  4.705177e+07\n",
       "2012             NaN  1.018817e+08  8.525691e+07  4.498943e+07\n",
       "2013    2.766182e+08  1.675885e+08  8.882905e+07  4.030423e+07\n",
       "2014    1.333559e+08  8.505298e+07  8.836269e+07  3.601207e+07\n",
       "2015    1.318206e+08  1.165649e+08  1.061655e+08  3.419390e+07\n",
       "2016             NaN  1.519622e+08  8.363997e+07  3.926380e+07"
      ]
     },
     "execution_count": 15,
     "metadata": {},
     "output_type": "execute_result"
    }
   ],
   "source": [
    "d = cleanData.groupby([\"year\",\"rating\"])[\"adj_gross\"].mean().unstack(\"rating\")\n",
    "d"
   ]
  },
  {
   "cell_type": "code",
   "execution_count": 16,
   "metadata": {
    "scrolled": false
   },
   "outputs": [
    {
     "data": {
      "image/png": "[encoded data removed]",
      "text/plain": [
       "<Figure size 432x288 with 1 Axes>"
      ]
     },
     "metadata": {
      "needs_background": "light"
     },
     "output_type": "display_data"
    },
    {
     "data": {
      "image/png": "[encoded data removed]",
      "text/plain": [
       "<Figure size 432x288 with 1 Axes>"
      ]
     },
     "metadata": {
      "needs_background": "light"
     },
     "output_type": "display_data"
    }
   ],
   "source": [
    "c.plot(kind = \"bar\")\n",
    "plt.title(\"Rating Counts Per Year\")\n",
    "plt.ylabel(\"Counts\")\n",
    "d.plot(kind = \"bar\")\n",
    "plt.title(\"Mean Gross Per Rating Per Year\")\n",
    "plt.ylabel(\"Mean Gross(US Dollars)\")\n",
    "plt.show()"
   ]
  },
  {
   "cell_type": "code",
   "execution_count": 17,
   "metadata": {},
   "outputs": [
    {
     "data": {
      "text/html": [
       "<div>\n",
       "<style scoped>\n",
       "    .dataframe tbody tr th:only-of-type {\n",
       "        vertical-align: middle;\n",
       "    }\n",
       "\n",
       "    .dataframe tbody tr th {\n",
       "        vertical-align: top;\n",
       "    }\n",
       "\n",
       "    .dataframe thead th {\n",
       "        text-align: right;\n",
       "    }\n",
       "</style>\n",
       "<table border=\"1\" class=\"dataframe\">\n",
       "  <thead>\n",
       "    <tr style=\"text-align: right;\">\n",
       "      <th></th>\n",
       "      <th>name</th>\n",
       "      <th>country</th>\n",
       "      <th>gross</th>\n",
       "      <th>runtime</th>\n",
       "      <th>rating</th>\n",
       "      <th>released</th>\n",
       "      <th>year</th>\n",
       "      <th>month</th>\n",
       "      <th>y2</th>\n",
       "      <th>T_year</th>\n",
       "      <th>adj_gross</th>\n",
       "      <th>school</th>\n",
       "    </tr>\n",
       "  </thead>\n",
       "  <tbody>\n",
       "    <tr>\n",
       "      <th>385</th>\n",
       "      <td>Finding Nemo</td>\n",
       "      <td>USA</td>\n",
       "      <td>380843261.0</td>\n",
       "      <td>100</td>\n",
       "      <td>G</td>\n",
       "      <td>2003-05-30</td>\n",
       "      <td>2003</td>\n",
       "      <td>5</td>\n",
       "      <td>2003</td>\n",
       "      <td>True</td>\n",
       "      <td>4.967666e+08</td>\n",
       "      <td>Break</td>\n",
       "    </tr>\n",
       "    <tr>\n",
       "      <th>447</th>\n",
       "      <td>Tierra de osos</td>\n",
       "      <td>USA</td>\n",
       "      <td>85336277.0</td>\n",
       "      <td>85</td>\n",
       "      <td>G</td>\n",
       "      <td>2003-10-31</td>\n",
       "      <td>2003</td>\n",
       "      <td>10</td>\n",
       "      <td>2003</td>\n",
       "      <td>True</td>\n",
       "      <td>1.113114e+08</td>\n",
       "      <td>Session</td>\n",
       "    </tr>\n",
       "    <tr>\n",
       "      <th>499</th>\n",
       "      <td>The Jungle Book 2</td>\n",
       "      <td>USA</td>\n",
       "      <td>47887943.0</td>\n",
       "      <td>72</td>\n",
       "      <td>G</td>\n",
       "      <td>2003-02-14</td>\n",
       "      <td>2003</td>\n",
       "      <td>2</td>\n",
       "      <td>2003</td>\n",
       "      <td>True</td>\n",
       "      <td>6.246436e+07</td>\n",
       "      <td>Session</td>\n",
       "    </tr>\n",
       "    <tr>\n",
       "      <th>503</th>\n",
       "      <td>Piglet's Big Movie</td>\n",
       "      <td>USA</td>\n",
       "      <td>23103423.0</td>\n",
       "      <td>75</td>\n",
       "      <td>G</td>\n",
       "      <td>2003-03-21</td>\n",
       "      <td>2003</td>\n",
       "      <td>3</td>\n",
       "      <td>2003</td>\n",
       "      <td>True</td>\n",
       "      <td>3.013578e+07</td>\n",
       "      <td>Session</td>\n",
       "    </tr>\n",
       "  </tbody>\n",
       "</table>\n",
       "</div>"
      ],
      "text/plain": [
       "                   name country        gross  runtime rating    released  \\\n",
       "385        Finding Nemo     USA  380843261.0      100      G  2003-05-30   \n",
       "447      Tierra de osos     USA   85336277.0       85      G  2003-10-31   \n",
       "499   The Jungle Book 2     USA   47887943.0       72      G  2003-02-14   \n",
       "503  Piglet's Big Movie     USA   23103423.0       75      G  2003-03-21   \n",
       "\n",
       "     year  month    y2  T_year     adj_gross   school  \n",
       "385  2003      5  2003    True  4.967666e+08    Break  \n",
       "447  2003     10  2003    True  1.113114e+08  Session  \n",
       "499  2003      2  2003    True  6.246436e+07  Session  \n",
       "503  2003      3  2003    True  3.013578e+07  Session  "
      ]
     },
     "execution_count": 17,
     "metadata": {},
     "output_type": "execute_result"
    }
   ],
   "source": [
    "cleanData[(cleanData.rating == \"G\") & (cleanData.year == 2003)]"
   ]
  },
  {
   "cell_type": "markdown",
   "metadata": {},
   "source": [
    "In the plots above, we see the number of movies released and the mean adjusted gross per rating across the years 2000 to 2016, respectively. In general, there are more PG-13 movies, followed by R-rated, then PG, and lastly G. It appears the PG-13 trend follows a rough sine-like curve, the R-rated trend follows a cosine-like curve, the PG-rated trend follows a somewhat cosine-like curve, and the G-rated trend follows a sine-like curve. Although there are fewer G-rated films released through the years, their mean adjusted gross is typically highger than all the other ratings. The mean adjusted gross for PG-rated films follows behind, then PG-13 films, and lastly R-rated films."
   ]
  },
  {
   "cell_type": "code",
   "execution_count": 18,
   "metadata": {
    "scrolled": false
   },
   "outputs": [
    {
     "data": {
      "text/html": [
       "<div>\n",
       "<style scoped>\n",
       "    .dataframe tbody tr th:only-of-type {\n",
       "        vertical-align: middle;\n",
       "    }\n",
       "\n",
       "    .dataframe tbody tr th {\n",
       "        vertical-align: top;\n",
       "    }\n",
       "\n",
       "    .dataframe thead th {\n",
       "        text-align: right;\n",
       "    }\n",
       "</style>\n",
       "<table border=\"1\" class=\"dataframe\">\n",
       "  <thead>\n",
       "    <tr style=\"text-align: right;\">\n",
       "      <th>rating</th>\n",
       "      <th>G</th>\n",
       "      <th>PG</th>\n",
       "      <th>PG-13</th>\n",
       "      <th>R</th>\n",
       "    </tr>\n",
       "    <tr>\n",
       "      <th>school</th>\n",
       "      <th></th>\n",
       "      <th></th>\n",
       "      <th></th>\n",
       "      <th></th>\n",
       "    </tr>\n",
       "  </thead>\n",
       "  <tbody>\n",
       "    <tr>\n",
       "      <th>Break</th>\n",
       "      <td>20</td>\n",
       "      <td>144</td>\n",
       "      <td>429</td>\n",
       "      <td>317</td>\n",
       "    </tr>\n",
       "    <tr>\n",
       "      <th>Session</th>\n",
       "      <td>24</td>\n",
       "      <td>174</td>\n",
       "      <td>502</td>\n",
       "      <td>521</td>\n",
       "    </tr>\n",
       "  </tbody>\n",
       "</table>\n",
       "</div>"
      ],
      "text/plain": [
       "rating    G   PG  PG-13    R\n",
       "school                      \n",
       "Break    20  144    429  317\n",
       "Session  24  174    502  521"
      ]
     },
     "execution_count": 18,
     "metadata": {},
     "output_type": "execute_result"
    }
   ],
   "source": [
    "e = cleanData.groupby([\"school\",\"rating\"])[\"rating\"].count().unstack(\"rating\")\n",
    "e"
   ]
  },
  {
   "cell_type": "code",
   "execution_count": 19,
   "metadata": {
    "scrolled": true
   },
   "outputs": [
    {
     "data": {
      "text/html": [
       "<div>\n",
       "<style scoped>\n",
       "    .dataframe tbody tr th:only-of-type {\n",
       "        vertical-align: middle;\n",
       "    }\n",
       "\n",
       "    .dataframe tbody tr th {\n",
       "        vertical-align: top;\n",
       "    }\n",
       "\n",
       "    .dataframe thead th {\n",
       "        text-align: right;\n",
       "    }\n",
       "</style>\n",
       "<table border=\"1\" class=\"dataframe\">\n",
       "  <thead>\n",
       "    <tr style=\"text-align: right;\">\n",
       "      <th>rating</th>\n",
       "      <th>G</th>\n",
       "      <th>PG</th>\n",
       "      <th>PG-13</th>\n",
       "      <th>R</th>\n",
       "    </tr>\n",
       "    <tr>\n",
       "      <th>school</th>\n",
       "      <th></th>\n",
       "      <th></th>\n",
       "      <th></th>\n",
       "      <th></th>\n",
       "    </tr>\n",
       "  </thead>\n",
       "  <tbody>\n",
       "    <tr>\n",
       "      <th>Break</th>\n",
       "      <td>1.675699e+08</td>\n",
       "      <td>1.180207e+08</td>\n",
       "      <td>1.158749e+08</td>\n",
       "      <td>5.038284e+07</td>\n",
       "    </tr>\n",
       "    <tr>\n",
       "      <th>Session</th>\n",
       "      <td>1.140052e+08</td>\n",
       "      <td>8.647984e+07</td>\n",
       "      <td>5.723812e+07</td>\n",
       "      <td>3.450457e+07</td>\n",
       "    </tr>\n",
       "  </tbody>\n",
       "</table>\n",
       "</div>"
      ],
      "text/plain": [
       "rating              G            PG         PG-13             R\n",
       "school                                                         \n",
       "Break    1.675699e+08  1.180207e+08  1.158749e+08  5.038284e+07\n",
       "Session  1.140052e+08  8.647984e+07  5.723812e+07  3.450457e+07"
      ]
     },
     "execution_count": 19,
     "metadata": {},
     "output_type": "execute_result"
    }
   ],
   "source": [
    "f = cleanData.groupby([\"school\",\"rating\"])[\"adj_gross\"].mean().unstack(\"rating\")\n",
    "f"
   ]
  },
  {
   "cell_type": "code",
   "execution_count": 20,
   "metadata": {},
   "outputs": [
    {
     "data": {
      "image/png": "[encoded data removed]",
      "text/plain": [
       "<Figure size 432x288 with 1 Axes>"
      ]
     },
     "metadata": {
      "needs_background": "light"
     },
     "output_type": "display_data"
    },
    {
     "data": {
      "image/png": "[encoded data removed]",
      "text/plain": [
       "<Figure size 432x288 with 1 Axes>"
      ]
     },
     "metadata": {
      "needs_background": "light"
     },
     "output_type": "display_data"
    }
   ],
   "source": [
    "e.plot(kind = \"bar\")\n",
    "plt.title(\"Rating Counts by School Term\")\n",
    "plt.ylabel(\"Counts\")\n",
    "f.plot(kind = \"bar\")\n",
    "plt.title(\"Mean Gross Per Rating by School Term\")\n",
    "plt.ylabel(\"Mean Gross(US Dollars)\")\n",
    "plt.show()"
   ]
  },
  {
   "cell_type": "markdown",
   "metadata": {},
   "source": [
    "In the plots above, we see the number of movies and mean adjusted gross per rating between Break and Session. There appear to be fewer R-rated movies released when on break, likely because younger kids have more free time and they are less likely to watch R-rated movies. The number of movies for G, PG, and PG-13 rated movies are relatively similar between Break and Session. In the plot of mean adjusted gross, we can see that G-rated films gross the most during Break, likely because the younger audience has more time to go to movie theaters then. Mean adjusted gross is also higher in Break for PG and PG-13 rated films, likely due to similar reasons for G-rated films. R-rated movies also had higher average gross during Break."
   ]
  },
  {
   "cell_type": "code",
   "execution_count": 21,
   "metadata": {},
   "outputs": [
    {
     "name": "stdout",
     "output_type": "stream",
     "text": [
      "Empty DataFrame\n",
      "Columns: [name, country, gross, runtime, rating, released, year, month, y2, T_year, adj_gross, school]\n",
      "Index: []\n"
     ]
    },
    {
     "name": "stderr",
     "output_type": "stream",
     "text": [
      "/Users/cristinasanchez/anaconda3/lib/python3.7/site-packages/pandas/core/ops.py:1649: FutureWarning: elementwise comparison failed; returning scalar instead, but in the future will perform elementwise comparison\n",
      "  result = method(y)\n"
     ]
    }
   ],
   "source": [
    "# Verify NaN's are because of 0 counts and not missing values\n",
    "print(cleanData[(cleanData.rating == \"G\") & (cleanData.year == \"2012\")])"
   ]
  },
  {
   "cell_type": "code",
   "execution_count": 22,
   "metadata": {
    "scrolled": false
   },
   "outputs": [
    {
     "data": {
      "image/png": "[encoded data removed]",
      "text/plain": [
       "<Figure size 1152x360 with 1 Axes>"
      ]
     },
     "metadata": {
      "needs_background": "light"
     },
     "output_type": "display_data"
    }
   ],
   "source": [
    "# Time analyzing year vs runtime\n",
    "def plot_df(data, x,y, title=\"\", xlabel='Year', ylabel='Runtime'):\n",
    "    plt.figure(figsize=(16,5))\n",
    "    plt.plot(x,y, color='tab:blue')\n",
    "    plt.gca().set(title=title, xlabel=xlabel, ylabel=ylabel)\n",
    "    plt.show()\n",
    "\n",
    "plot_df(cleanData, x=cleanData['year'], y=cleanData['runtime'], title='Year vs. Runtime')  "
   ]
  },
  {
   "cell_type": "markdown",
   "metadata": {},
   "source": [
    "From the plot above, we can see a slight general decrease in runtime across the years 2000 to 2016. Before filtering the years, we also produced a similar plot but from the years 1986 to 2016. We saw a more noticeable increase from 1986 to the early 1990s then a decrease starting in the early 1990s to 2016 in that plot, a curved trend similar to that of a skewed right distribution. It appears the runtime of movies is slowly decreasing or converging to approximately 2.5 hours."
   ]
  },
  {
   "cell_type": "code",
   "execution_count": 23,
   "metadata": {
    "scrolled": false
   },
   "outputs": [
    {
     "data": {
      "image/png": "[encoded data removed]",
      "text/plain": [
       "<Figure size 1152x360 with 1 Axes>"
      ]
     },
     "metadata": {
      "needs_background": "light"
     },
     "output_type": "display_data"
    }
   ],
   "source": [
    "# Time analyzing year vs adjusted gross\n",
    "def plot_df(data, x,y, title=\"\", xlabel='Year', ylabel='Adjusted Gross'):\n",
    "    plt.figure(figsize=(16,5))\n",
    "    plt.plot(x,y, color='tab:red')\n",
    "    plt.gca().set(title=title, xlabel=xlabel, ylabel=ylabel)\n",
    "    plt.show()\n",
    "\n",
    "plot_df(cleanData, x=cleanData['year'], y=cleanData['adj_gross'], title='Year vs Adjusted Gross') "
   ]
  },
  {
   "cell_type": "markdown",
   "metadata": {},
   "source": [
    "From the plot above, we can see a generally even level of adjusted gross with a few relatively minor bumps and dips; however, there is a noticeably large spike in adjusted gross from 2014 to 2015. This may be due to the release of films related to huge franchises such as The Avengers, Star Wars, Jurassic World, X-Men, and Transformers. Interestingly, between the years of 2007 and 2010, we expected a more noticeable dip due to the Great Recession. However, it seems there was a small spike from 2007 to 2008, one of the most difficult years during the recession. From a psychological standpoint, this may be due to people wanting to escape from problems arising from the financial hit, so they continue to frequent theaters despite possible financial hardship."
   ]
  },
  {
   "cell_type": "code",
   "execution_count": 24,
   "metadata": {
    "scrolled": false
   },
   "outputs": [
    {
     "data": {
      "text/plain": [
       "<matplotlib.legend.Legend at 0x1a265bd080>"
      ]
     },
     "execution_count": 24,
     "metadata": {},
     "output_type": "execute_result"
    },
    {
     "data": {
      "image/png": "[encoded data removed]",
      "text/plain": [
       "<Figure size 360x360 with 1 Axes>"
      ]
     },
     "metadata": {
      "needs_background": "light"
     },
     "output_type": "display_data"
    }
   ],
   "source": [
    "# Plot time showing insight on the breakdown of variables\n",
    "order = ['R', 'PG-13', 'PG', 'G']\n",
    "sns.lmplot( x=\"runtime\", y=\"adj_gross\", data=cleanData, fit_reg=False, hue='rating', hue_order = order,col_order = order, legend=False, scatter_kws={\"s\": 10})\n",
    "plt.legend(loc='lower right')"
   ]
  },
  {
   "cell_type": "markdown",
   "metadata": {},
   "source": [
    "In the scatterplot above, it appears PG-13 and R-rated movies have longer runtimes while G and PG-rated movies typically have shorter runtimes in the 2-hour or below range. G, PG, and PG-13 movies appear to have somewhat higher adjusted gross as runtime increases, but R-rated films do not have as strong a slope indicating as strong of a positive trend."
   ]
  },
  {
   "cell_type": "code",
   "execution_count": 25,
   "metadata": {
    "scrolled": false
   },
   "outputs": [
    {
     "data": {
      "text/plain": [
       "<matplotlib.legend.Legend at 0x1a263e5470>"
      ]
     },
     "execution_count": 25,
     "metadata": {},
     "output_type": "execute_result"
    },
    {
     "data": {
      "image/png": "[encoded data removed]",
      "text/plain": [
       "<Figure size 360x360 with 1 Axes>"
      ]
     },
     "metadata": {
      "needs_background": "light"
     },
     "output_type": "display_data"
    }
   ],
   "source": [
    "sns.lmplot( x=\"runtime\", y=\"adj_gross\", data=cleanData, fit_reg=False, hue='school', legend=False, scatter_kws={\"s\": 10})\n",
    "plt.legend(loc='lower right')"
   ]
  },
  {
   "cell_type": "markdown",
   "metadata": {},
   "source": [
    "In the scatterplot above, it appears movies released during Break seem to have longer runtimes and higher adjusted gross whereas movies released during Session typically have shorter runtimes and lower adjusted gross. This may be due to more people having more free time during Break to frequent theaters versus school time."
   ]
  },
  {
   "cell_type": "markdown",
   "metadata": {},
   "source": [
    "## Data Modeling"
   ]
  },
  {
   "cell_type": "markdown",
   "metadata": {},
   "source": [
    "## Linear Regression\n",
    "\n",
    "In STATS 100B and STATS 101A, we were taught that linear regression should follow the assumptions that stem from the Gauss-Markov Conditions. These are linearity, independence, normality, and homoskedasticity. We want our predictors to not be multicollinear with each other, the errors to be independent, and the residuals to be scattered randomly without a pattern across a fitted vs residual plot. "
   ]
  },
  {
   "cell_type": "code",
   "execution_count": 26,
   "metadata": {},
   "outputs": [
    {
     "data": {
      "text/html": [
       "<table class=\"simpletable\">\n",
       "<caption>OLS Regression Results</caption>\n",
       "<tr>\n",
       "  <th>Dep. Variable:</th>    <td>np.sqrt(adj_gross)</td> <th>  R-squared:         </th> <td>   0.288</td> \n",
       "</tr>\n",
       "<tr>\n",
       "  <th>Model:</th>                    <td>OLS</td>        <th>  Adj. R-squared:    </th> <td>   0.286</td> \n",
       "</tr>\n",
       "<tr>\n",
       "  <th>Method:</th>              <td>Least Squares</td>   <th>  F-statistic:       </th> <td>   171.6</td> \n",
       "</tr>\n",
       "<tr>\n",
       "  <th>Date:</th>              <td>Fri, 06 Dec 2019</td>  <th>  Prob (F-statistic):</th> <td>1.36e-153</td>\n",
       "</tr>\n",
       "<tr>\n",
       "  <th>Time:</th>                  <td>14:06:54</td>      <th>  Log-Likelihood:    </th> <td> -20549.</td> \n",
       "</tr>\n",
       "<tr>\n",
       "  <th>No. Observations:</th>       <td>  2131</td>       <th>  AIC:               </th> <td>4.111e+04</td>\n",
       "</tr>\n",
       "<tr>\n",
       "  <th>Df Residuals:</th>           <td>  2125</td>       <th>  BIC:               </th> <td>4.114e+04</td>\n",
       "</tr>\n",
       "<tr>\n",
       "  <th>Df Model:</th>               <td>     5</td>       <th>                     </th>     <td> </td>    \n",
       "</tr>\n",
       "<tr>\n",
       "  <th>Covariance Type:</th>       <td>nonrobust</td>     <th>                     </th>     <td> </td>    \n",
       "</tr>\n",
       "</table>\n",
       "<table class=\"simpletable\">\n",
       "<tr>\n",
       "            <td></td>              <th>coef</th>     <th>std err</th>      <th>t</th>      <th>P>|t|</th>  <th>[0.025</th>    <th>0.975]</th>  \n",
       "</tr>\n",
       "<tr>\n",
       "  <th>C(rating)[G]</th>         <td>-7647.1981</td> <td> 1207.820</td> <td>   -6.331</td> <td> 0.000</td> <td>   -1e+04</td> <td>-5278.565</td>\n",
       "</tr>\n",
       "<tr>\n",
       "  <th>C(rating)[PG]</th>        <td>-1.006e+04</td> <td> 1116.123</td> <td>   -9.013</td> <td> 0.000</td> <td>-1.22e+04</td> <td>-7871.124</td>\n",
       "</tr>\n",
       "<tr>\n",
       "  <th>C(rating)[PG-13]</th>     <td>-1.197e+04</td> <td> 1148.151</td> <td>  -10.423</td> <td> 0.000</td> <td>-1.42e+04</td> <td>-9715.470</td>\n",
       "</tr>\n",
       "<tr>\n",
       "  <th>C(rating)[R]</th>         <td>-1.441e+04</td> <td> 1139.937</td> <td>  -12.640</td> <td> 0.000</td> <td>-1.66e+04</td> <td>-1.22e+04</td>\n",
       "</tr>\n",
       "<tr>\n",
       "  <th>C(school)[T.Session]</th> <td>-1473.6069</td> <td>  164.991</td> <td>   -8.931</td> <td> 0.000</td> <td>-1797.168</td> <td>-1150.046</td>\n",
       "</tr>\n",
       "<tr>\n",
       "  <th>np.sqrt(runtime)</th>     <td> 1997.3170</td> <td>  108.479</td> <td>   18.412</td> <td> 0.000</td> <td> 1784.581</td> <td> 2210.053</td>\n",
       "</tr>\n",
       "</table>\n",
       "<table class=\"simpletable\">\n",
       "<tr>\n",
       "  <th>Omnibus:</th>       <td>144.706</td> <th>  Durbin-Watson:     </th> <td>   1.453</td>\n",
       "</tr>\n",
       "<tr>\n",
       "  <th>Prob(Omnibus):</th> <td> 0.000</td>  <th>  Jarque-Bera (JB):  </th> <td> 185.942</td>\n",
       "</tr>\n",
       "<tr>\n",
       "  <th>Skew:</th>          <td> 0.615</td>  <th>  Prob(JB):          </th> <td>4.20e-41</td>\n",
       "</tr>\n",
       "<tr>\n",
       "  <th>Kurtosis:</th>      <td> 3.762</td>  <th>  Cond. No.          </th> <td>    287.</td>\n",
       "</tr>\n",
       "</table><br/><br/>Warnings:<br/>[1] Standard Errors assume that the covariance matrix of the errors is correctly specified."
      ],
      "text/plain": [
       "<class 'statsmodels.iolib.summary.Summary'>\n",
       "\"\"\"\n",
       "                            OLS Regression Results                            \n",
       "==============================================================================\n",
       "Dep. Variable:     np.sqrt(adj_gross)   R-squared:                       0.288\n",
       "Model:                            OLS   Adj. R-squared:                  0.286\n",
       "Method:                 Least Squares   F-statistic:                     171.6\n",
       "Date:                Fri, 06 Dec 2019   Prob (F-statistic):          1.36e-153\n",
       "Time:                        14:06:54   Log-Likelihood:                -20549.\n",
       "No. Observations:                2131   AIC:                         4.111e+04\n",
       "Df Residuals:                    2125   BIC:                         4.114e+04\n",
       "Df Model:                           5                                         \n",
       "Covariance Type:            nonrobust                                         \n",
       "========================================================================================\n",
       "                           coef    std err          t      P>|t|      [0.025      0.975]\n",
       "----------------------------------------------------------------------------------------\n",
       "C(rating)[G]         -7647.1981   1207.820     -6.331      0.000      -1e+04   -5278.565\n",
       "C(rating)[PG]        -1.006e+04   1116.123     -9.013      0.000   -1.22e+04   -7871.124\n",
       "C(rating)[PG-13]     -1.197e+04   1148.151    -10.423      0.000   -1.42e+04   -9715.470\n",
       "C(rating)[R]         -1.441e+04   1139.937    -12.640      0.000   -1.66e+04   -1.22e+04\n",
       "C(school)[T.Session] -1473.6069    164.991     -8.931      0.000   -1797.168   -1150.046\n",
       "np.sqrt(runtime)      1997.3170    108.479     18.412      0.000    1784.581    2210.053\n",
       "==============================================================================\n",
       "Omnibus:                      144.706   Durbin-Watson:                   1.453\n",
       "Prob(Omnibus):                  0.000   Jarque-Bera (JB):              185.942\n",
       "Skew:                           0.615   Prob(JB):                     4.20e-41\n",
       "Kurtosis:                       3.762   Cond. No.                         287.\n",
       "==============================================================================\n",
       "\n",
       "Warnings:\n",
       "[1] Standard Errors assume that the covariance matrix of the errors is correctly specified.\n",
       "\"\"\""
      ]
     },
     "execution_count": 26,
     "metadata": {},
     "output_type": "execute_result"
    }
   ],
   "source": [
    "cleanData = pd.read_csv(\"moviesAdjusted.csv\", encoding=\"latin-1\")\n",
    "cleanData.head()\n",
    "\n",
    "## Linear Regression ##\n",
    "import statsmodels.formula.api as smf\n",
    "import statsmodels.api as sm\n",
    "model = smf.ols('np.sqrt(adj_gross) ~ np.sqrt(runtime) + C(rating) + C(school) - 1', \n",
    "               data = cleanData).fit()\n",
    "model.summary()"
   ]
  },
  {
   "cell_type": "markdown",
   "metadata": {},
   "source": [
    "The summary statistics for this linear model shows that assuming a threshold of $\\alpha = 0.05$, all of the predictors are considered significacnt. This means that the rating of a movie, its runtime, and whether it was released during Break or Session, can all explain some of the variability in adjusted gross. \n",
    "\n",
    "We transformed the model by square rooting the response variable adjusted gross and square rooting one of the predictor variables, runtime. This was done to achieve a better diagnostic results for OLS, particularly to improve multicollinearity and normality of errors."
   ]
  },
  {
   "cell_type": "code",
   "execution_count": 27,
   "metadata": {},
   "outputs": [
    {
     "data": {
      "image/png": "[encoded data removed]",
      "text/plain": [
       "<Figure size 432x180 with 1 Axes>"
      ]
     },
     "metadata": {
      "needs_background": "light"
     },
     "output_type": "display_data"
    }
   ],
   "source": [
    "# Model Diagnostics: Linearity and Equal Variance\n",
    "pred_val = model.fittedvalues.copy()\n",
    "true_val = np.sqrt(cleanData['adj_gross']).values.copy()\n",
    "residual = true_val - pred_val\n",
    "fit, ax = plt.subplots(figsize=(6, 2.5))\n",
    "_ = ax.scatter(residual, pred_val)\n",
    "plt.title(\"Residual vs Fitted\")\n",
    "plt.show()"
   ]
  },
  {
   "cell_type": "markdown",
   "metadata": {},
   "source": [
    "The above diagnostic plot for linearity and homoskedasticity seems to adhere to the scattered nature of the residuals. However, there seems to be a boundary in the 3rd quadrant of the plot, so this may indicate that the constant variance assumption is not fully achieved."
   ]
  },
  {
   "cell_type": "code",
   "execution_count": 28,
   "metadata": {},
   "outputs": [
    {
     "data": {
      "image/png": "[encoded data removed]",
      "text/plain": [
       "<Figure size 432x180 with 1 Axes>"
      ]
     },
     "metadata": {
      "needs_background": "light"
     },
     "output_type": "display_data"
    }
   ],
   "source": [
    "# Model Diagnostics: Normality\n",
    "import scipy as sp\n",
    "fig, ax = plt.subplots(figsize=(6, 2.5))\n",
    "_, (_, __, r) = sp.stats.probplot(residual, plot=ax, fit=True)"
   ]
  },
  {
   "cell_type": "markdown",
   "metadata": {},
   "source": [
    "The above diagnostic plot for normality shows that all of the points seem to lie on top of the normal qq line. "
   ]
  },
  {
   "cell_type": "code",
   "execution_count": 29,
   "metadata": {},
   "outputs": [
    {
     "data": {
      "text/html": [
       "<div>\n",
       "<style scoped>\n",
       "    .dataframe tbody tr th:only-of-type {\n",
       "        vertical-align: middle;\n",
       "    }\n",
       "\n",
       "    .dataframe tbody tr th {\n",
       "        vertical-align: top;\n",
       "    }\n",
       "\n",
       "    .dataframe thead th {\n",
       "        text-align: right;\n",
       "    }\n",
       "</style>\n",
       "<table border=\"1\" class=\"dataframe\">\n",
       "  <thead>\n",
       "    <tr style=\"text-align: right;\">\n",
       "      <th></th>\n",
       "      <th>sum_sq</th>\n",
       "      <th>df</th>\n",
       "      <th>F</th>\n",
       "      <th>PR(&gt;F)</th>\n",
       "    </tr>\n",
       "  </thead>\n",
       "  <tbody>\n",
       "    <tr>\n",
       "      <th>C(rating)</th>\n",
       "      <td>7.180125e+09</td>\n",
       "      <td>4.0</td>\n",
       "      <td>128.686802</td>\n",
       "      <td>1.687850e-98</td>\n",
       "    </tr>\n",
       "    <tr>\n",
       "      <th>C(school)</th>\n",
       "      <td>1.112707e+09</td>\n",
       "      <td>1.0</td>\n",
       "      <td>79.770584</td>\n",
       "      <td>8.890786e-19</td>\n",
       "    </tr>\n",
       "    <tr>\n",
       "      <th>np.sqrt(runtime)</th>\n",
       "      <td>4.728679e+09</td>\n",
       "      <td>1.0</td>\n",
       "      <td>339.001662</td>\n",
       "      <td>2.333284e-70</td>\n",
       "    </tr>\n",
       "    <tr>\n",
       "      <th>Residual</th>\n",
       "      <td>2.964128e+10</td>\n",
       "      <td>2125.0</td>\n",
       "      <td>NaN</td>\n",
       "      <td>NaN</td>\n",
       "    </tr>\n",
       "  </tbody>\n",
       "</table>\n",
       "</div>"
      ],
      "text/plain": [
       "                        sum_sq      df           F        PR(>F)\n",
       "C(rating)         7.180125e+09     4.0  128.686802  1.687850e-98\n",
       "C(school)         1.112707e+09     1.0   79.770584  8.890786e-19\n",
       "np.sqrt(runtime)  4.728679e+09     1.0  339.001662  2.333284e-70\n",
       "Residual          2.964128e+10  2125.0         NaN           NaN"
      ]
     },
     "execution_count": 29,
     "metadata": {},
     "output_type": "execute_result"
    }
   ],
   "source": [
    "# Fitting an ANOVA Model\n",
    "atab = sm.stats.anova_lm(model, typ = 2) ; atab"
   ]
  },
  {
   "cell_type": "markdown",
   "metadata": {},
   "source": [
    "The `PR(>F)` column of the ANOVA table tells us that all predictors -- `rating`, `school`, and `sqrt(runtime)` are all significant.\n",
    "\n",
    "#### Findings \n",
    "\n",
    "A simple OLS model was fit in the dataset to show how much certain factors i.e. a movie's rating, its runtime, and its release seasonality, affect the variability in gross sales of a movie. "
   ]
  },
  {
   "cell_type": "markdown",
   "metadata": {},
   "source": [
    "## Fitting Models using a Binary Response\n",
    "\n",
    "One glaring observation we saw during the exploratory data analysis was the amount of gross sales hit of all the movies grouped by each month. Because of this we wanted to fit models that both cater to finding out a binary classification of movies, given its features. \n",
    "\n",
    "We asked ourselves, \"If I was a movie producer, do I have to care about when the timing at which I have to release my movie?\" We added the column `school` (with a binary category -- *Break* or *Session*) in the data set because as students, we know that there are certain months that schools are in break or in session. \n",
    "\n",
    "Given our prior knowledge as students undergoing both semester and quarterly education, we decided that typically *Break* months are June, July, August, and December; while the rest of the months are in *Session*. \n",
    "\n",
    "We want to know how likely is a movie released during *Break* or *Session* given its adjusted gross, rating, runtime, month and year the movie was released."
   ]
  },
  {
   "cell_type": "markdown",
   "metadata": {},
   "source": [
    "### Logistic Regression\n",
    "\n",
    "As we have learned in our statistics classes, logistic regression is great when trying to fit a binary variable (0 or 1, *Break* or *Session*). We have encoded the categorical variables into dummy variables. Example, rating with 4 factors in 1 column will be encoded into 4 columns with each column labaled as 0 or 1. "
   ]
  },
  {
   "cell_type": "code",
   "execution_count": 30,
   "metadata": {},
   "outputs": [],
   "source": [
    "# # Start with preprocessing the data set #\n",
    "cleanData = pd.read_csv(\"moviesAdjusted.csv\", encoding=\"latin-1\")\n",
    "cleanData['adj_gross_sq'] = np.sqrt(cleanData['adj_gross'])\n",
    "data2 = cleanData"
   ]
  },
  {
   "cell_type": "code",
   "execution_count": 31,
   "metadata": {},
   "outputs": [],
   "source": [
    "## Logistic Regression ## \n",
    "from sklearn import preprocessing\n",
    "from sklearn.linear_model import LogisticRegression\n",
    "from sklearn.model_selection import train_test_split\n",
    "\n",
    "school_map = {'Break':0, 'Session':1}\n",
    "data2['school_map'] = data2['school'].map(school_map)\n",
    "data2['rating'] = data2['rating'].astype('category')\n",
    "data2['month'] = data2['month'].astype('category')\n",
    "data2['year'] = data2['year'].astype('category')\n",
    "\n",
    "# Create dummy variables\n",
    "cat_vars = ['rating', 'month']\n",
    "dummy = pd.get_dummies(data2[cat_vars])\n",
    "data2 = pd.concat([data2, dummy], axis=1)"
   ]
  },
  {
   "cell_type": "code",
   "execution_count": 32,
   "metadata": {},
   "outputs": [
    {
     "name": "stderr",
     "output_type": "stream",
     "text": [
      "/Users/cristinasanchez/anaconda3/lib/python3.7/site-packages/sklearn/linear_model/logistic.py:432: FutureWarning: Default solver will be changed to 'lbfgs' in 0.22. Specify a solver to silence this warning.\n",
      "  FutureWarning)\n"
     ]
    }
   ],
   "source": [
    "# Training and Testing (75/25)\n",
    "X = data2[['adj_gross_sq','runtime','rating_G','rating_PG','rating_PG-13','rating_R',\n",
    "           'month_1','month_2','month_3','month_4','month_5','month_6',\n",
    "          'month_7','month_8','month_9','month_10','month_11','month_12',]]\n",
    "\n",
    "X_breaks_only = data2[['adj_gross_sq','runtime','rating_G','rating_PG','rating_PG-13','rating_R',\n",
    "                    'month_6','month_7','month_8','month_12']]\n",
    "\n",
    "X_no_month = data2[['adj_gross_sq','runtime','rating_G','rating_PG','rating_PG-13','rating_R']]\n",
    "\n",
    "y = data2['school_map']\n",
    "\n",
    "# X_no_month\n",
    "X_train,X_test,y_train,y_test = train_test_split(X_no_month ,y,test_size=0.25,random_state=0)\n",
    "\n",
    "logreg = LogisticRegression()\n",
    "logreg.fit(X_train, y_train)\n",
    "y_pred = logreg.predict(X_test)"
   ]
  },
  {
   "cell_type": "code",
   "execution_count": 33,
   "metadata": {},
   "outputs": [
    {
     "data": {
      "image/png": "[encoded data removed]",
      "text/plain": [
       "<Figure size 432x288 with 2 Axes>"
      ]
     },
     "metadata": {
      "needs_background": "light"
     },
     "output_type": "display_data"
    }
   ],
   "source": [
    "## Confusion Matrix\n",
    "from sklearn import metrics\n",
    "conf_matrix = metrics.confusion_matrix(y_test, y_pred)\n",
    "conf_matrix\n",
    "\n",
    "# Plot Confusion Matrix\n",
    "class_names = [0,1] \n",
    "fig, ax = plt.subplots()\n",
    "tick_marks = np.arange(len(class_names))\n",
    "plt.xticks(tick_marks, class_names)\n",
    "plt.yticks(tick_marks, class_names)\n",
    "\n",
    "# Heatmap \n",
    "sns.heatmap(pd.DataFrame(conf_matrix), annot=True, fmt='g')\n",
    "ax.xaxis.set_label_position(\"top\")\n",
    "plt.tight_layout()\n",
    "plt.title(\"Confusion Matrix\", y=1.1)\n",
    "plt.ylabel(\"Actual Label\")\n",
    "plt.xlabel(\"Predicted Label\")\n",
    "plt.show()"
   ]
  },
  {
   "cell_type": "code",
   "execution_count": 34,
   "metadata": {},
   "outputs": [
    {
     "name": "stdout",
     "output_type": "stream",
     "text": [
      "Accuracy: 0.6172607879924953\n",
      "Precision: 0.6102941176470589\n",
      "Recall: 0.8469387755102041\n"
     ]
    }
   ],
   "source": [
    "print(\"Accuracy:\",metrics.accuracy_score(y_test, y_pred))\n",
    "print(\"Precision:\",metrics.precision_score(y_test, y_pred))\n",
    "print(\"Recall:\",metrics.recall_score(y_test, y_pred))"
   ]
  },
  {
   "cell_type": "markdown",
   "metadata": {},
   "source": [
    "#### Findings\n",
    "\n",
    "We decided to fit in three sets of predictors: \n",
    "- `X` includes all predictors\n",
    "- `X_breaks_only` does not include dummy variable with months that are in *Session*.\n",
    "- `X_no_month` only has adjusted gross, runtime, and rating (encoded into dummy variables -- rating_G, rating_PG-13, rating_PG, rating_G)\n",
    "\n",
    "As expected, using `X` and `X_breaks_only` yielded into predicting which movies are in *Break* and which movies are in *Session*. While not using any months at all yielded an accuracy rate of about 62%.\n",
    "\n",
    "It is good to note that this accuracy rate was achieved with a validation set approach using an arbitrary train/test split cutoff at 75%/25%.  "
   ]
  },
  {
   "cell_type": "markdown",
   "metadata": {},
   "source": [
    "### K-Means Clustering\n",
    "\n",
    "The K-Means algorithm is a type of unsupervised machine learning model that seeks to learn, from the properties of the data, an optimal division or discrete labelling of groups of points. This article by Jake VanderPlas who is the author of **Python Data Science Handbook** explains in-depth K-Means Clustering: <https://jakevdp.github.io/PythonDataScienceHandbook/05.11-k-means.html> \n",
    "\n",
    "In our case, we wanted to know how the algorithm can classify our dataset into two categories -- both which can correspond to *Break* and *Session*. The input for K-Means clustering are all numerical variables, so each categorical variable should be converting into an numbers. "
   ]
  },
  {
   "cell_type": "code",
   "execution_count": 35,
   "metadata": {},
   "outputs": [],
   "source": [
    "def rating_to_numeric(x):\n",
    "    if x == 'PG-13':\n",
    "        return 4\n",
    "    if x == 'PG':\n",
    "        return 3\n",
    "    if x == 'R':\n",
    "        return 2\n",
    "    if x == 'G':\n",
    "        return 1\n",
    "\n",
    "def school_to_numeric(x):\n",
    "    if x == 'Session':\n",
    "        return 1\n",
    "    if x == 'Break':\n",
    "        return 0\n",
    "\n",
    "data2['rating_num'] = data2['rating'].apply(rating_to_numeric)\n",
    "data2['school_num'] = data2['school'].apply(school_to_numeric)\n",
    "data2_num = data2[['adj_gross', 'runtime', 'month', 'year', 'rating_num']]"
   ]
  },
  {
   "cell_type": "code",
   "execution_count": 36,
   "metadata": {},
   "outputs": [
    {
     "data": {
      "text/plain": [
       "0.3707179727827311"
      ]
     },
     "execution_count": 36,
     "metadata": {},
     "output_type": "execute_result"
    }
   ],
   "source": [
    "## K Means Clustering ##\n",
    "from sklearn.cluster import KMeans\n",
    "\n",
    "# Number of clusters\n",
    "kmeans = KMeans(n_clusters = 2, random_state = 0)\n",
    "\n",
    "# Fitting the input data\n",
    "clusters = kmeans.fit(data2_num)\n",
    "\n",
    "# Getting the cluster labels\n",
    "labels = kmeans.predict(data2_num)\n",
    "\n",
    "# Centroid values\n",
    "centroids = kmeans.cluster_centers_\n",
    "\n",
    "from sklearn.metrics import accuracy_score\n",
    "1 - accuracy_score(data2['school_num'], labels) "
   ]
  },
  {
   "cell_type": "code",
   "execution_count": 37,
   "metadata": {},
   "outputs": [
    {
     "data": {
      "text/plain": [
       "array([[ 203,  707],\n",
       "       [  83, 1138]])"
      ]
     },
     "execution_count": 37,
     "metadata": {},
     "output_type": "execute_result"
    }
   ],
   "source": [
    "## Confusion Matrix ##\n",
    "\n",
    "from sklearn.metrics import confusion_matrix\n",
    "from sklearn import metrics\n",
    "conf_matrix = metrics.confusion_matrix(data2['school_num'], labels)\n",
    "conf_matrix"
   ]
  },
  {
   "cell_type": "code",
   "execution_count": 38,
   "metadata": {},
   "outputs": [
    {
     "data": {
      "image/png": "[encoded data removed]",
      "text/plain": [
       "<Figure size 432x288 with 2 Axes>"
      ]
     },
     "metadata": {
      "needs_background": "light"
     },
     "output_type": "display_data"
    }
   ],
   "source": [
    "# Plot Confusion Matrix\n",
    "class_names = [1,0] \n",
    "fig, ax = plt.subplots()\n",
    "tick_marks = np.arange(len(class_names))\n",
    "plt.xticks(tick_marks, class_names)\n",
    "plt.yticks(tick_marks, class_names)\n",
    "\n",
    "# Heatmap \n",
    "sns.heatmap(pd.DataFrame(conf_matrix), annot=True, fmt='g')\n",
    "ax.xaxis.set_label_position(\"top\")\n",
    "plt.tight_layout()\n",
    "plt.title(\"Confusion Matrix\", y=1.1)\n",
    "plt.ylabel(\"Actual Label\")\n",
    "plt.xlabel(\"Predicted Label\")\n",
    "plt.show()"
   ]
  },
  {
   "cell_type": "code",
   "execution_count": 39,
   "metadata": {},
   "outputs": [
    {
     "name": "stdout",
     "output_type": "stream",
     "text": [
      "1    1845\n",
      "0     286\n",
      "Name: 0, dtype: int64 \n",
      "\n",
      " Session    1221\n",
      "Break       910\n",
      "Name: school, dtype: int64\n"
     ]
    }
   ],
   "source": [
    "print(pd.DataFrame(labels)[0].value_counts(),\"\\n\\n\",data2['school'].value_counts())"
   ]
  },
  {
   "cell_type": "markdown",
   "metadata": {},
   "source": [
    "#### Findings\n",
    "\n",
    "Using an unsupervised clustering algorithm yielded an accuracy rate of around 63%, which is a couple of percentage points off than the logistic regression model that did not use months (`X_no_month`). \n",
    "\n",
    "From our EDA, we know that there 57% (1221) of the movies are in *Session* and  43% of the movies are classified as *Break*. The K-Means label classified movies into 0 or 1 with the former occupying 13% (286) of the prediction and the latter occupying 87% (1845). From the confusion matrix, it looks like the accuracy rate might be flipped rendering the accuracy rate as `1 - 63% = 37%`. "
   ]
  },
  {
   "cell_type": "markdown",
   "metadata": {},
   "source": [
    "## Conclusion"
   ]
  },
  {
   "cell_type": "markdown",
   "metadata": {},
   "source": [
    "After performing our exploratory data analysis, we were able to see some interesting patterns and trends. For example, the most interesting finding was the significance between adjusted gross and months in the year. From these findings, we developed a guiding question of: is there significance in the variables we selected with respect to adjusted gross, and what can we infer from the relationships between these variables? We found that the trend seen in the relationship between month and adjusted gross followed that of the academic calendar where higher adjusted gross were during the months of summer and winter break versus that of during the months of school when in session. Through data modeling, we found that the variables \"school\" (derived from months), \"rating\", and \"runtime\" were statistically significant with respect to adjusted gross. Our findings suggest that movies released during Break gross more than those released during Session; this is likely because more people (generally the younger audiences) have more time to go see movies in theater. Younger audiences often have an accompanying person when going to theaters, so less restrictive ratings generally have higher adjusted gross because at least two tickets (one for child, one for chaperone) are typically sold per child who go watch movies in theaters, which may lead to greater gross. "
   ]
  }
 ],
 "metadata": {
  "kernelspec": {
   "display_name": "Python 3",
   "language": "python",
   "name": "python3"
  },
  "language_info": {
   "codemirror_mode": {
    "name": "ipython",
    "version": 3
   },
   "file_extension": ".py",
   "mimetype": "text/x-python",
   "name": "python",
   "nbconvert_exporter": "python",
   "pygments_lexer": "ipython3",
   "version": "3.7.3"
  }
 },
 "nbformat": 4,
 "nbformat_minor": 2
}
